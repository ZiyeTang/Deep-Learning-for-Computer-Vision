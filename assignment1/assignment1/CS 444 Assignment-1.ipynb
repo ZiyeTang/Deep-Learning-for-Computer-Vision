{
 "cells": [
  {
   "attachments": {},
   "cell_type": "markdown",
   "metadata": {},
   "source": [
    "# (Optional) Colab Setup\n",
    "If you aren't using Colab, you can delete the following code cell. This is just to help students with mounting to Google Drive to access the other .py files and downloading the data, which is a little trickier on Colab than on your local machine using Jupyter. "
   ]
  },
  {
   "cell_type": "code",
   "execution_count": null,
   "metadata": {},
   "outputs": [],
   "source": [
    "# you will be prompted with a window asking to grant permissions\n",
    "from google.colab import drive\n",
    "drive.mount(\"/content/drive\")"
   ]
  },
  {
   "cell_type": "code",
   "execution_count": null,
   "metadata": {},
   "outputs": [],
   "source": [
    "# fill in the path in your Google Drive in the string below. Note: do not escape slashes or spaces\n",
    "import os\n",
    "datadir = \"/content/assignment1\"\n",
    "if not os.path.exists(datadir):\n",
    "  !ln -s \"/content/drive/My Drive/YOUR PATH HERE/assignment1/\" $datadir\n",
    "os.chdir(datadir)\n",
    "!pwd"
   ]
  },
  {
   "cell_type": "code",
   "execution_count": 4,
   "metadata": {},
   "outputs": [],
   "source": [
    "# downloading Fashion-MNIST\n",
    "import os\n",
    "os.chdir(os.path.join(datadir,\"fashion-mnist/\"))\n",
    "!chmod +x ./get_data.sh\n",
    "!./get_data.sh\n",
    "os.chdir(datadir)"
   ]
  },
  {
   "attachments": {},
   "cell_type": "markdown",
   "metadata": {},
   "source": [
    "# Imports"
   ]
  },
  {
   "cell_type": "code",
   "execution_count": 2,
   "metadata": {},
   "outputs": [],
   "source": [
    "import random\n",
    "import numpy as np\n",
    "from data_process import get_FASHION_data, get_RICE_data\n",
    "from scipy.spatial import distance\n",
    "from models import Perceptron, SVM, Softmax, Logistic\n",
    "from kaggle_submission import output_submission_csv\n",
    "%matplotlib inline\n",
    "\n",
    "# For auto-reloading external modules\n",
    "# See http://stackoverflow.com/questions/1907993/autoreload-of-modules-in-ipython\n",
    "%load_ext autoreload\n",
    "%autoreload 2"
   ]
  },
  {
   "cell_type": "markdown",
   "metadata": {},
   "source": [
    "# Loading Fashion-MNIST"
   ]
  },
  {
   "cell_type": "markdown",
   "metadata": {},
   "source": [
    "In the following cells we determine the number of images for each split and load the images.\n",
    "<br /> \n",
    "TRAIN_IMAGES + VAL_IMAGES = (0, 60000]\n",
    ", TEST_IMAGES = 10000"
   ]
  },
  {
   "cell_type": "code",
   "execution_count": 3,
   "metadata": {},
   "outputs": [],
   "source": [
    "# You can change these numbers for experimentation\n",
    "# For submission we will use the default values \n",
    "TRAIN_IMAGES = 50000\n",
    "VAL_IMAGES = 10000\n",
    "normalize = True"
   ]
  },
  {
   "cell_type": "code",
   "execution_count": 4,
   "metadata": {},
   "outputs": [],
   "source": [
    "data = get_FASHION_data(TRAIN_IMAGES, VAL_IMAGES, normalize=normalize)\n",
    "X_train_fashion, y_train_fashion = data['X_train'], data['y_train']\n",
    "X_val_fashion, y_val_fashion = data['X_val'], data['y_val']\n",
    "X_test_fashion, y_test_fashion = data['X_test'], data['y_test']\n",
    "n_class_fashion = len(np.unique(y_test_fashion))"
   ]
  },
  {
   "attachments": {},
   "cell_type": "markdown",
   "metadata": {},
   "source": [
    "# Loading Rice"
   ]
  },
  {
   "cell_type": "code",
   "execution_count": 5,
   "metadata": {},
   "outputs": [
    {
     "name": "stdout",
     "output_type": "stream",
     "text": [
      "Number of train samples:  10911\n",
      "Number of val samples:  3637\n",
      "Number of test samples:  3637\n"
     ]
    }
   ],
   "source": [
    "# loads train / test / val splits of 80%, 20%, 20% \n",
    "data = get_RICE_data()\n",
    "X_train_RICE, y_train_RICE = data['X_train'], data['y_train']\n",
    "X_val_RICE, y_val_RICE = data['X_val'], data['y_val']\n",
    "X_test_RICE, y_test_RICE = data['X_test'], data['y_test']\n",
    "n_class_RICE = len(np.unique(y_test_RICE))\n",
    "\n",
    "print(\"Number of train samples: \", X_train_RICE.shape[0])\n",
    "print(\"Number of val samples: \", X_val_RICE.shape[0])\n",
    "print(\"Number of test samples: \", X_test_RICE.shape[0])"
   ]
  },
  {
   "cell_type": "markdown",
   "metadata": {},
   "source": [
    "### Get Accuracy"
   ]
  },
  {
   "cell_type": "markdown",
   "metadata": {},
   "source": [
    "This function computes how well your model performs using accuracy as a metric."
   ]
  },
  {
   "cell_type": "code",
   "execution_count": 6,
   "metadata": {},
   "outputs": [],
   "source": [
    "def get_acc(pred, y_test):\n",
    "    return np.sum(y_test == pred) / len(y_test) * 100"
   ]
  },
  {
   "cell_type": "markdown",
   "metadata": {},
   "source": [
    "# Perceptron"
   ]
  },
  {
   "cell_type": "markdown",
   "metadata": {},
   "source": [
    "Perceptron has 2 hyperparameters that you can experiment with:\n",
    "- **Learning rate** - controls how much we change the current weights of the classifier during each update. We set it at a default value of 0.5, but you should experiment with different values. We recommend changing the learning rate by factors of 10 and observing how the performance of the classifier changes. You should also try adding a **decay** which slowly reduces the learning rate over each epoch.\n",
    "- **Number of Epochs** - An epoch is a complete iterative pass over all of the data in the dataset. During an epoch we predict a label using the classifier and then update the weights of the classifier according to the perceptron update rule for each sample in the training set. You should try different values for the number of training epochs and report your results."
   ]
  },
  {
   "cell_type": "markdown",
   "metadata": {},
   "source": [
    "You will implement the Perceptron classifier in the **models/perceptron.py**\n",
    "\n",
    "The following code: \n",
    "- Creates an instance of the Perceptron classifier class \n",
    "- The train function of the Perceptron class is trained on the training data\n",
    "- We use the predict function to find the training accuracy as well as the testing accuracy\n"
   ]
  },
  {
   "cell_type": "markdown",
   "metadata": {},
   "source": [
    "## Train Perceptron on Fashion-MNIST"
   ]
  },
  {
   "cell_type": "code",
   "execution_count": 636,
   "metadata": {},
   "outputs": [
    {
     "name": "stdout",
     "output_type": "stream",
     "text": [
      "0.5 10\n",
      "The training accuracy is given by: 84.460000\n",
      "The validation accuracy is given by: 82.370000\n",
      "The testing accuracy is given by: 81.490000\n",
      "\n",
      "0.5 12\n",
      "The training accuracy is given by: 84.510000\n",
      "The validation accuracy is given by: 82.640000\n",
      "The testing accuracy is given by: 81.680000\n",
      "\n",
      "0.5 14\n",
      "The training accuracy is given by: 84.452000\n",
      "The validation accuracy is given by: 82.540000\n",
      "The testing accuracy is given by: 81.410000\n",
      "\n",
      "0.05 10\n",
      "The training accuracy is given by: 84.278000\n",
      "The validation accuracy is given by: 82.380000\n",
      "The testing accuracy is given by: 81.230000\n",
      "\n",
      "0.05 12\n",
      "The training accuracy is given by: 84.370000\n",
      "The validation accuracy is given by: 82.560000\n",
      "The testing accuracy is given by: 81.380000\n",
      "\n",
      "0.05 14\n",
      "The training accuracy is given by: 84.542000\n",
      "The validation accuracy is given by: 82.490000\n",
      "The testing accuracy is given by: 81.390000\n",
      "\n"
     ]
    }
   ],
   "source": [
    "for lr in (0.5, 0.05):\n",
    "    for n_epochs in range(10, 15, 2):\n",
    "        percept_fashion = Perceptron(n_class_fashion, lr, n_epochs)\n",
    "        percept_fashion.train(X_train_fashion, y_train_fashion)\n",
    "        print(lr, n_epochs)\n",
    "        pred_percept = percept_fashion.predict(X_train_fashion)\n",
    "        print('The training accuracy is given by: %f' % (get_acc(pred_percept, y_train_fashion)))\n",
    "        pred_percept = percept_fashion.predict(X_val_fashion)\n",
    "        print('The validation accuracy is given by: %f' % (get_acc(pred_percept, y_val_fashion)))\n",
    "        pred_percept = percept_fashion.predict(X_test_fashion)\n",
    "        print('The testing accuracy is given by: %f' % (get_acc(pred_percept, y_test_fashion)))\n",
    "        print()\n"
   ]
  },
  {
   "cell_type": "code",
   "execution_count": 638,
   "metadata": {},
   "outputs": [],
   "source": [
    "lr = 0.05\n",
    "n_epochs = 10\n",
    "percept_fashion = Perceptron(n_class_fashion, lr, n_epochs)\n",
    "percept_fashion.train(X_train_fashion, y_train_fashion)"
   ]
  },
  {
   "cell_type": "code",
   "execution_count": 639,
   "metadata": {},
   "outputs": [
    {
     "name": "stdout",
     "output_type": "stream",
     "text": [
      "The training accuracy is given by: 84.384000\n"
     ]
    }
   ],
   "source": [
    "pred_percept = percept_fashion.predict(X_train_fashion)\n",
    "print('The training accuracy is given by: %f' % (get_acc(pred_percept, y_train_fashion)))"
   ]
  },
  {
   "cell_type": "markdown",
   "metadata": {},
   "source": [
    "### Validate Perceptron on Fashion-MNIST"
   ]
  },
  {
   "cell_type": "code",
   "execution_count": 640,
   "metadata": {},
   "outputs": [
    {
     "name": "stdout",
     "output_type": "stream",
     "text": [
      "The validation accuracy is given by: 82.500000\n"
     ]
    }
   ],
   "source": [
    "pred_percept = percept_fashion.predict(X_val_fashion)\n",
    "print('The validation accuracy is given by: %f' % (get_acc(pred_percept, y_val_fashion)))"
   ]
  },
  {
   "cell_type": "markdown",
   "metadata": {},
   "source": [
    "### Test Perceptron on Fashion-MNIST"
   ]
  },
  {
   "cell_type": "code",
   "execution_count": 641,
   "metadata": {},
   "outputs": [
    {
     "name": "stdout",
     "output_type": "stream",
     "text": [
      "The testing accuracy is given by: 81.470000\n"
     ]
    }
   ],
   "source": [
    "pred_percept = percept_fashion.predict(X_test_fashion)\n",
    "print('The testing accuracy is given by: %f' % (get_acc(pred_percept, y_test_fashion)))"
   ]
  },
  {
   "cell_type": "markdown",
   "metadata": {},
   "source": [
    "### Perceptron_Fashion-MNIST Kaggle Submission\n",
    "\n",
    "Once you are satisfied with your solution and test accuracy, output a file to submit your test set predictions to the Kaggle for Assignment 1 Fashion-MNIST. Use the following code to do so:"
   ]
  },
  {
   "cell_type": "code",
   "execution_count": 331,
   "metadata": {},
   "outputs": [],
   "source": [
    "output_submission_csv('kaggle/perceptron_submission_fashion.csv', percept_fashion.predict(X_test_fashion))"
   ]
  },
  {
   "attachments": {},
   "cell_type": "markdown",
   "metadata": {},
   "source": [
    "## Train Perceptron on Rice"
   ]
  },
  {
   "cell_type": "code",
   "execution_count": 637,
   "metadata": {},
   "outputs": [
    {
     "name": "stdout",
     "output_type": "stream",
     "text": [
      "0.5 10\n",
      "The training accuracy is given by: 99.743378\n",
      "The validation accuracy is given by: 99.725048\n",
      "The testing accuracy is given by: 99.560077\n",
      "\n",
      "0.5 12\n",
      "The training accuracy is given by: 99.770873\n",
      "The validation accuracy is given by: 99.752543\n",
      "The testing accuracy is given by: 99.587572\n",
      "\n",
      "0.5 14\n",
      "The training accuracy is given by: 99.770873\n",
      "The validation accuracy is given by: 99.752543\n",
      "The testing accuracy is given by: 99.587572\n",
      "\n",
      "0.05 10\n",
      "The training accuracy is given by: 99.807534\n",
      "The validation accuracy is given by: 99.807534\n",
      "The testing accuracy is given by: 99.670058\n",
      "\n",
      "0.05 12\n",
      "The training accuracy is given by: 99.789204\n",
      "The validation accuracy is given by: 99.835029\n",
      "The testing accuracy is given by: 99.587572\n",
      "\n",
      "0.05 14\n",
      "The training accuracy is given by: 99.807534\n",
      "The validation accuracy is given by: 99.835029\n",
      "The testing accuracy is given by: 99.752543\n",
      "\n"
     ]
    }
   ],
   "source": [
    "for lr in (0.5, 0.05):\n",
    "    for n_epochs in range(10, 15, 2):\n",
    "        percept_RICE = Perceptron(n_class_RICE, lr, n_epochs)\n",
    "        percept_RICE.train(X_train_RICE, y_train_RICE)\n",
    "        print(lr, n_epochs)\n",
    "        pred_percept = percept_RICE.predict(X_train_RICE)\n",
    "        print('The training accuracy is given by: %f' % (get_acc(pred_percept, y_train_RICE)))\n",
    "        pred_percept = percept_RICE.predict(X_val_RICE)\n",
    "        print('The validation accuracy is given by: %f' % (get_acc(pred_percept, y_val_RICE)))\n",
    "        pred_percept = percept_RICE.predict(X_test_RICE)\n",
    "        print('The testing accuracy is given by: %f' % (get_acc(pred_percept, y_test_RICE)))\n",
    "        print()"
   ]
  },
  {
   "cell_type": "code",
   "execution_count": 642,
   "metadata": {},
   "outputs": [],
   "source": [
    "lr = 0.05\n",
    "n_epochs = 14\n",
    "percept_RICE = Perceptron(n_class_RICE, lr, n_epochs)\n",
    "percept_RICE.train(X_train_RICE, y_train_RICE)"
   ]
  },
  {
   "cell_type": "code",
   "execution_count": 643,
   "metadata": {},
   "outputs": [
    {
     "name": "stdout",
     "output_type": "stream",
     "text": [
      "The training accuracy is given by: 99.816699\n"
     ]
    }
   ],
   "source": [
    "pred_percept = percept_RICE.predict(X_train_RICE)\n",
    "print('The training accuracy is given by: %f' % (get_acc(pred_percept, y_train_RICE)))"
   ]
  },
  {
   "attachments": {},
   "cell_type": "markdown",
   "metadata": {},
   "source": [
    "### Validate Perceptron on Rice"
   ]
  },
  {
   "cell_type": "code",
   "execution_count": 644,
   "metadata": {},
   "outputs": [
    {
     "name": "stdout",
     "output_type": "stream",
     "text": [
      "The validation accuracy is given by: 99.862524\n"
     ]
    }
   ],
   "source": [
    "pred_percept = percept_RICE.predict(X_val_RICE)\n",
    "print('The validation accuracy is given by: %f' % (get_acc(pred_percept, y_val_RICE)))"
   ]
  },
  {
   "attachments": {},
   "cell_type": "markdown",
   "metadata": {},
   "source": [
    "### Test Perceptron on Rice"
   ]
  },
  {
   "cell_type": "code",
   "execution_count": 645,
   "metadata": {},
   "outputs": [
    {
     "name": "stdout",
     "output_type": "stream",
     "text": [
      "The testing accuracy is given by: 99.697553\n"
     ]
    }
   ],
   "source": [
    "pred_percept = percept_RICE.predict(X_test_RICE)\n",
    "print('The testing accuracy is given by: %f' % (get_acc(pred_percept, y_test_RICE)))"
   ]
  },
  {
   "cell_type": "markdown",
   "metadata": {},
   "source": [
    "# Support Vector Machines (with SGD)"
   ]
  },
  {
   "cell_type": "markdown",
   "metadata": {},
   "source": [
    "Next, you will implement a \"soft margin\" SVM. In this formulation you will maximize the margin between positive and negative training examples and penalize margin violations using a hinge loss.\n",
    "\n",
    "We will optimize the SVM loss using SGD. This means you must compute the loss function with respect to model weights. You will use this gradient to update the model weights.\n",
    "\n",
    "SVM optimized with SGD has 3 hyperparameters that you can experiment with:\n",
    "- **Learning rate** - similar to as defined above in Perceptron, this parameter scales by how much the weights are changed according to the calculated gradient update. \n",
    "- **Epochs** - similar to as defined above in Perceptron.\n",
    "- **Regularization constant** - Hyperparameter to determine the strength of regularization. In this case it is a coefficient on the term which maximizes the margin. You could try different values. The default value is set to 0.05."
   ]
  },
  {
   "cell_type": "markdown",
   "metadata": {},
   "source": [
    "You will implement the SVM using SGD in the **models/svm.py**\n",
    "\n",
    "The following code: \n",
    "- Creates an instance of the SVM classifier class \n",
    "- The train function of the SVM class is trained on the training data\n",
    "- We use the predict function to find the training accuracy as well as the testing accuracy"
   ]
  },
  {
   "cell_type": "markdown",
   "metadata": {},
   "source": [
    "## Train SVM on Fashion-MNIST"
   ]
  },
  {
   "cell_type": "code",
   "execution_count": 658,
   "metadata": {},
   "outputs": [
    {
     "name": "stdout",
     "output_type": "stream",
     "text": [
      "The training accuracy is given by: 83.978000\n",
      "The validation accuracy is given by: 82.800000\n",
      "The testing accuracy is given by: 81.570000\n",
      "The training accuracy is given by: 83.658000\n",
      "The validation accuracy is given by: 82.710000\n",
      "The testing accuracy is given by: 81.700000\n",
      "The training accuracy is given by: 83.496000\n",
      "The validation accuracy is given by: 82.330000\n",
      "The testing accuracy is given by: 81.330000\n",
      "The training accuracy is given by: 83.944000\n",
      "The validation accuracy is given by: 83.050000\n",
      "The testing accuracy is given by: 81.670000\n",
      "The training accuracy is given by: 83.738000\n",
      "The validation accuracy is given by: 82.680000\n",
      "The testing accuracy is given by: 81.710000\n",
      "The training accuracy is given by: 83.296000\n",
      "The validation accuracy is given by: 82.480000\n",
      "The testing accuracy is given by: 81.370000\n",
      "The training accuracy is given by: 83.874000\n",
      "The validation accuracy is given by: 82.290000\n",
      "The testing accuracy is given by: 81.350000\n",
      "The training accuracy is given by: 83.436000\n",
      "The validation accuracy is given by: 81.920000\n",
      "The testing accuracy is given by: 81.400000\n",
      "The training accuracy is given by: 83.616000\n",
      "The validation accuracy is given by: 82.410000\n",
      "The testing accuracy is given by: 81.260000\n",
      "The training accuracy is given by: 83.910000\n",
      "The validation accuracy is given by: 82.300000\n",
      "The testing accuracy is given by: 81.730000\n",
      "The training accuracy is given by: 83.788000\n",
      "The validation accuracy is given by: 82.370000\n",
      "The testing accuracy is given by: 81.340000\n",
      "The training accuracy is given by: 83.500000\n",
      "The validation accuracy is given by: 82.340000\n",
      "The testing accuracy is given by: 81.190000\n"
     ]
    }
   ],
   "source": [
    "for lr in (0.5, 0.05):\n",
    "    for n_epochs in (10, 12):\n",
    "        for reg_const in (0.05, 0.1, 0.15):\n",
    "            svm_fashion = SVM(n_class_fashion, lr, n_epochs, reg_const)\n",
    "            svm_fashion.train(X_train_fashion, y_train_fashion)\n",
    "            pred_svm = svm_fashion.predict(X_train_fashion)\n",
    "            print('The training accuracy is given by: %f' % (get_acc(pred_svm, y_train_fashion)))  \n",
    "            pred_svm = svm_fashion.predict(X_val_fashion)\n",
    "            print('The validation accuracy is given by: %f' % (get_acc(pred_svm, y_val_fashion))) \n",
    "            pred_svm = svm_fashion.predict(X_test_fashion)\n",
    "            print('The testing accuracy is given by: %f' % (get_acc(pred_svm, y_test_fashion)))"
   ]
  },
  {
   "cell_type": "code",
   "execution_count": 654,
   "metadata": {},
   "outputs": [],
   "source": [
    "lr = 0.5\n",
    "n_epochs = 10\n",
    "reg_const = 0.05\n",
    "\n",
    "svm_fashion = SVM(n_class_fashion, lr, n_epochs, reg_const)\n",
    "svm_fashion.train(X_train_fashion, y_train_fashion)"
   ]
  },
  {
   "cell_type": "code",
   "execution_count": 655,
   "metadata": {},
   "outputs": [
    {
     "name": "stdout",
     "output_type": "stream",
     "text": [
      "The training accuracy is given by: 83.682000\n"
     ]
    }
   ],
   "source": [
    "pred_svm = svm_fashion.predict(X_train_fashion)\n",
    "print('The training accuracy is given by: %f' % (get_acc(pred_svm, y_train_fashion)))"
   ]
  },
  {
   "cell_type": "markdown",
   "metadata": {},
   "source": [
    "### Validate SVM on Fashion-MNIST"
   ]
  },
  {
   "cell_type": "code",
   "execution_count": 656,
   "metadata": {},
   "outputs": [
    {
     "name": "stdout",
     "output_type": "stream",
     "text": [
      "The validation accuracy is given by: 82.510000\n"
     ]
    }
   ],
   "source": [
    "pred_svm = svm_fashion.predict(X_val_fashion)\n",
    "print('The validation accuracy is given by: %f' % (get_acc(pred_svm, y_val_fashion)))"
   ]
  },
  {
   "cell_type": "markdown",
   "metadata": {},
   "source": [
    "### Test SVM on Fashion-MNIST"
   ]
  },
  {
   "cell_type": "code",
   "execution_count": 657,
   "metadata": {},
   "outputs": [
    {
     "name": "stdout",
     "output_type": "stream",
     "text": [
      "The testing accuracy is given by: 81.440000\n"
     ]
    }
   ],
   "source": [
    "pred_svm = svm_fashion.predict(X_test_fashion)\n",
    "print('The testing accuracy is given by: %f' % (get_acc(pred_svm, y_test_fashion)))"
   ]
  },
  {
   "cell_type": "markdown",
   "metadata": {},
   "source": [
    "### SVM_Fashion-MNIST Kaggle Submission\n",
    "\n",
    "Once you are satisfied with your solution and test accuracy output a file to submit your test set predictions to the Kaggle for Assignment 1 Fashion-MNIST. Use the following code to do so:"
   ]
  },
  {
   "cell_type": "code",
   "execution_count": 382,
   "metadata": {},
   "outputs": [],
   "source": [
    "output_submission_csv('kaggle/svm_submission_fashion.csv', svm_fashion.predict(X_test_fashion))"
   ]
  },
  {
   "attachments": {},
   "cell_type": "markdown",
   "metadata": {},
   "source": [
    "## Train SVM on Rice"
   ]
  },
  {
   "cell_type": "code",
   "execution_count": 660,
   "metadata": {},
   "outputs": [
    {
     "name": "stdout",
     "output_type": "stream",
     "text": [
      "0.5 10 0.05\n",
      "The training accuracy is given by: 99.789204\n",
      "The validation accuracy is given by: 99.725048\n",
      "The testing accuracy is given by: 99.670058\n",
      "\n",
      "\n",
      "0.5 10 0.1\n",
      "The training accuracy is given by: 99.880854\n",
      "The validation accuracy is given by: 99.835029\n",
      "The testing accuracy is given by: 99.862524\n",
      "\n",
      "\n",
      "0.5 10 0.15\n",
      "The training accuracy is given by: 99.853359\n",
      "The validation accuracy is given by: 99.807534\n",
      "The testing accuracy is given by: 99.780038\n",
      "\n",
      "\n",
      "0.5 12 0.05\n",
      "The training accuracy is given by: 99.789204\n",
      "The validation accuracy is given by: 99.725048\n",
      "The testing accuracy is given by: 99.670058\n",
      "\n",
      "\n",
      "0.5 12 0.1\n",
      "The training accuracy is given by: 99.880854\n",
      "The validation accuracy is given by: 99.835029\n",
      "The testing accuracy is given by: 99.862524\n",
      "\n",
      "\n",
      "0.5 12 0.15\n",
      "The training accuracy is given by: 99.853359\n",
      "The validation accuracy is given by: 99.807534\n",
      "The testing accuracy is given by: 99.780038\n",
      "\n",
      "\n",
      "0.05 10 0.05\n",
      "The training accuracy is given by: 99.789204\n",
      "The validation accuracy is given by: 99.807534\n",
      "The testing accuracy is given by: 99.780038\n",
      "\n",
      "\n",
      "0.05 10 0.1\n",
      "The training accuracy is given by: 99.734213\n",
      "The validation accuracy is given by: 99.697553\n",
      "The testing accuracy is given by: 99.560077\n",
      "\n",
      "\n",
      "0.05 10 0.15\n",
      "The training accuracy is given by: 99.312620\n",
      "The validation accuracy is given by: 99.257630\n",
      "The testing accuracy is given by: 99.092659\n",
      "\n",
      "\n",
      "0.05 12 0.05\n",
      "The training accuracy is given by: 99.789204\n",
      "The validation accuracy is given by: 99.807534\n",
      "The testing accuracy is given by: 99.780038\n",
      "\n",
      "\n",
      "0.05 12 0.1\n",
      "The training accuracy is given by: 99.734213\n",
      "The validation accuracy is given by: 99.697553\n",
      "The testing accuracy is given by: 99.560077\n",
      "\n",
      "\n",
      "0.05 12 0.15\n",
      "The training accuracy is given by: 99.312620\n",
      "The validation accuracy is given by: 99.257630\n",
      "The testing accuracy is given by: 99.092659\n",
      "\n",
      "\n"
     ]
    }
   ],
   "source": [
    "for lr in (0.5, 0.05):\n",
    "    for n_epochs in (10, 12):\n",
    "        for reg_const in (0.05, 0.1, 0.15):\n",
    "            print(lr,n_epochs,reg_const)\n",
    "            svm_RICE = SVM(n_class_RICE, lr, n_epochs, reg_const)\n",
    "            svm_RICE.train(X_train_RICE, y_train_RICE)\n",
    "            pred_svm = svm_RICE.predict(X_train_RICE)\n",
    "            print('The training accuracy is given by: %f' % (get_acc(pred_svm, y_train_RICE)))\n",
    "            pred_svm = svm_RICE.predict(X_val_RICE)\n",
    "            print('The validation accuracy is given by: %f' % (get_acc(pred_svm, y_val_RICE)))\n",
    "            pred_svm = svm_RICE.predict(X_test_RICE)\n",
    "            print('The testing accuracy is given by: %f' % (get_acc(pred_svm, y_test_RICE)))\n",
    "            print(\"\\n\")\n"
   ]
  },
  {
   "cell_type": "code",
   "execution_count": 661,
   "metadata": {},
   "outputs": [],
   "source": [
    "lr = 0.5\n",
    "n_epochs = 10\n",
    "reg_const = 0.05\n",
    "\n",
    "svm_RICE = SVM(n_class_RICE, lr, n_epochs, reg_const)\n",
    "svm_RICE.train(X_train_RICE, y_train_RICE)"
   ]
  },
  {
   "cell_type": "code",
   "execution_count": 662,
   "metadata": {},
   "outputs": [
    {
     "name": "stdout",
     "output_type": "stream",
     "text": [
      "The training accuracy is given by: 99.789204\n"
     ]
    }
   ],
   "source": [
    "pred_svm = svm_RICE.predict(X_train_RICE)\n",
    "print('The training accuracy is given by: %f' % (get_acc(pred_svm, y_train_RICE)))"
   ]
  },
  {
   "attachments": {},
   "cell_type": "markdown",
   "metadata": {},
   "source": [
    "### Validate SVM on Rice"
   ]
  },
  {
   "cell_type": "code",
   "execution_count": 663,
   "metadata": {},
   "outputs": [
    {
     "name": "stdout",
     "output_type": "stream",
     "text": [
      "The validation accuracy is given by: 99.725048\n"
     ]
    }
   ],
   "source": [
    "pred_svm = svm_RICE.predict(X_val_RICE)\n",
    "print('The validation accuracy is given by: %f' % (get_acc(pred_svm, y_val_RICE)))"
   ]
  },
  {
   "attachments": {},
   "cell_type": "markdown",
   "metadata": {},
   "source": [
    "## Test SVM on Rice"
   ]
  },
  {
   "cell_type": "code",
   "execution_count": 664,
   "metadata": {},
   "outputs": [
    {
     "name": "stdout",
     "output_type": "stream",
     "text": [
      "The testing accuracy is given by: 99.670058\n"
     ]
    }
   ],
   "source": [
    "pred_svm = svm_RICE.predict(X_test_RICE)\n",
    "print('The testing accuracy is given by: %f' % (get_acc(pred_svm, y_test_RICE)))"
   ]
  },
  {
   "cell_type": "markdown",
   "metadata": {},
   "source": [
    "# Softmax Classifier (with SGD)"
   ]
  },
  {
   "cell_type": "markdown",
   "metadata": {
    "collapsed": true
   },
   "source": [
    "Next, you will train a Softmax classifier. This classifier consists of a linear function of the input data followed by a softmax function which outputs a vector of dimension C (number of classes) for each data point. Each entry of the softmax output vector corresponds to a confidence in one of the C classes, and like a probability distribution, the entries of the output vector sum to 1. We use a cross-entropy loss on this sotmax output to train the model. \n",
    "\n",
    "Check the following link as an additional resource on softmax classification: http://cs231n.github.io/linear-classify/#softmax\n",
    "\n",
    "Once again we will train the classifier with SGD. This means you need to compute the gradients of the softmax cross-entropy loss function according to the weights and update the weights using this gradient. Check the following link to help with implementing the gradient updates: https://deepnotes.io/softmax-crossentropy"
   ]
  },
  {
   "cell_type": "markdown",
   "metadata": {},
   "source": [
    "The softmax classifier has 3 hyperparameters that you can experiment with:\n",
    "- **Learning rate** - As above, this controls how much the model weights are updated with respect to their gradient.\n",
    "- **Number of Epochs** - As described for perceptron.\n",
    "- **Regularization constant** - Hyperparameter to determine the strength of regularization. In this case, we minimize the L2 norm of the model weights as regularization, so the regularization constant is a coefficient on the L2 norm in the combined cross-entropy and regularization objective."
   ]
  },
  {
   "cell_type": "markdown",
   "metadata": {},
   "source": [
    "You will implement a softmax classifier using SGD in the **models/softmax.py**\n",
    "\n",
    "The following code: \n",
    "- Creates an instance of the Softmax classifier class \n",
    "- The train function of the Softmax class is trained on the training data\n",
    "- We use the predict function to find the training accuracy as well as the testing accuracy"
   ]
  },
  {
   "cell_type": "markdown",
   "metadata": {},
   "source": [
    "## Train Softmax on Fashion-MNIST"
   ]
  },
  {
   "cell_type": "code",
   "execution_count": 703,
   "metadata": {},
   "outputs": [
    {
     "name": "stdout",
     "output_type": "stream",
     "text": [
      "0.5 10 0.05\n",
      "The training accuracy is given by: 84.628000\n",
      "The validation accuracy is given by: 83.160000\n",
      "The testing accuracy is given by: 82.020000\n",
      "\n",
      "\n",
      "0.5 10 0.1\n",
      "The training accuracy is given by: 84.464000\n",
      "The validation accuracy is given by: 83.140000\n",
      "The testing accuracy is given by: 81.440000\n",
      "\n",
      "\n",
      "0.5 10 0.15\n",
      "The training accuracy is given by: 84.314000\n",
      "The validation accuracy is given by: 82.870000\n",
      "The testing accuracy is given by: 81.490000\n",
      "\n",
      "\n",
      "0.5 12 0.05\n",
      "The training accuracy is given by: 84.472000\n",
      "The validation accuracy is given by: 82.710000\n",
      "The testing accuracy is given by: 82.030000\n",
      "\n",
      "\n",
      "0.5 12 0.1\n",
      "The training accuracy is given by: 84.354000\n",
      "The validation accuracy is given by: 82.750000\n",
      "The testing accuracy is given by: 81.800000\n",
      "\n",
      "\n",
      "0.5 12 0.15\n",
      "The training accuracy is given by: 84.428000\n",
      "The validation accuracy is given by: 82.920000\n",
      "The testing accuracy is given by: 81.900000\n",
      "\n",
      "\n",
      "0.05 10 0.05\n",
      "The training accuracy is given by: 84.890000\n",
      "The validation accuracy is given by: 82.730000\n",
      "The testing accuracy is given by: 82.030000\n",
      "\n",
      "\n",
      "0.05 10 0.1\n",
      "The training accuracy is given by: 84.930000\n",
      "The validation accuracy is given by: 82.870000\n",
      "The testing accuracy is given by: 82.020000\n",
      "\n",
      "\n",
      "0.05 10 0.15\n",
      "The training accuracy is given by: 84.896000\n",
      "The validation accuracy is given by: 83.250000\n",
      "The testing accuracy is given by: 81.860000\n",
      "\n",
      "\n",
      "0.05 12 0.05\n",
      "The training accuracy is given by: 85.016000\n",
      "The validation accuracy is given by: 83.180000\n",
      "The testing accuracy is given by: 82.210000\n",
      "\n",
      "\n",
      "0.05 12 0.1\n",
      "The training accuracy is given by: 84.824000\n",
      "The validation accuracy is given by: 82.810000\n",
      "The testing accuracy is given by: 81.950000\n",
      "\n",
      "\n",
      "0.05 12 0.15\n",
      "The training accuracy is given by: 84.942000\n",
      "The validation accuracy is given by: 83.230000\n",
      "The testing accuracy is given by: 82.070000\n",
      "\n",
      "\n"
     ]
    }
   ],
   "source": [
    "for lr in (0.5, 0.05):\n",
    "    for n_epochs in (10, 12):\n",
    "        for reg_const in (0.05, 0.1, 0.15):\n",
    "            print(lr,n_epochs,reg_const)\n",
    "            softmax_fashion = Softmax(n_class_fashion, lr, n_epochs, reg_const)\n",
    "            softmax_fashion.train(X_train_fashion, y_train_fashion)\n",
    "            pred_softmax = softmax_fashion.predict(X_train_fashion)\n",
    "            print('The training accuracy is given by: %f' % (get_acc(pred_softmax, y_train_fashion)))\n",
    "            pred_softmax = softmax_fashion.predict(X_val_fashion)\n",
    "            print('The validation accuracy is given by: %f' % (get_acc(pred_softmax, y_val_fashion)))\n",
    "            pred_softmax = softmax_fashion.predict(X_test_fashion)\n",
    "            print('The testing accuracy is given by: %f' % (get_acc(pred_softmax, y_test_fashion)))\n",
    "            print(\"\\n\")"
   ]
  },
  {
   "cell_type": "code",
   "execution_count": 31,
   "metadata": {},
   "outputs": [],
   "source": [
    "lr = 0.5\n",
    "n_epochs = 10\n",
    "reg_const = 0。9\n",
    "\n",
    "softmax_fashion = Softmax(n_class_fashion, lr, n_epochs, reg_const)\n",
    "softmax_fashion.train(X_train_fashion, y_train_fashion)"
   ]
  },
  {
   "cell_type": "code",
   "execution_count": 32,
   "metadata": {},
   "outputs": [
    {
     "name": "stdout",
     "output_type": "stream",
     "text": [
      "The training accuracy is given by: 84.636000\n"
     ]
    }
   ],
   "source": [
    "pred_softmax = softmax_fashion.predict(X_train_fashion)\n",
    "print('The training accuracy is given by: %f' % (get_acc(pred_softmax, y_train_fashion)))"
   ]
  },
  {
   "cell_type": "markdown",
   "metadata": {},
   "source": [
    "### Validate Softmax on Fashion-MNIST"
   ]
  },
  {
   "cell_type": "code",
   "execution_count": 33,
   "metadata": {},
   "outputs": [
    {
     "name": "stdout",
     "output_type": "stream",
     "text": [
      "The validation accuracy is given by: 83.340000\n"
     ]
    }
   ],
   "source": [
    "pred_softmax = softmax_fashion.predict(X_val_fashion)\n",
    "print('The validation accuracy is given by: %f' % (get_acc(pred_softmax, y_val_fashion)))"
   ]
  },
  {
   "cell_type": "markdown",
   "metadata": {},
   "source": [
    "### Testing Softmax on Fashion-MNIST"
   ]
  },
  {
   "cell_type": "code",
   "execution_count": 34,
   "metadata": {},
   "outputs": [
    {
     "name": "stdout",
     "output_type": "stream",
     "text": [
      "The testing accuracy is given by: 82.200000\n"
     ]
    }
   ],
   "source": [
    "pred_softmax = softmax_fashion.predict(X_test_fashion)\n",
    "print('The testing accuracy is given by: %f' % (get_acc(pred_softmax, y_test_fashion)))"
   ]
  },
  {
   "cell_type": "markdown",
   "metadata": {},
   "source": [
    "### Softmax_Fashion-MNIST Kaggle Submission\n",
    "\n",
    "Once you are satisfied with your solution and test accuracy output a file to submit your test set predictions to the Kaggle for Assignment 1 Fashion-MNIST. Use the following code to do so:"
   ]
  },
  {
   "cell_type": "code",
   "execution_count": 429,
   "metadata": {},
   "outputs": [],
   "source": [
    "output_submission_csv('kaggle/softmax_submission_fashion.csv', softmax_fashion.predict(X_test_fashion))"
   ]
  },
  {
   "attachments": {},
   "cell_type": "markdown",
   "metadata": {},
   "source": [
    "## Train Softmax on Rice"
   ]
  },
  {
   "cell_type": "code",
   "execution_count": 708,
   "metadata": {},
   "outputs": [
    {
     "name": "stdout",
     "output_type": "stream",
     "text": [
      "0.5 10 0.05\n",
      "The training accuracy is given by: 99.844194\n",
      "The validation accuracy is given by: 99.780038\n",
      "The testing accuracy is given by: 99.752543\n",
      "\n",
      "\n",
      "0.5 10 0.1\n",
      "The training accuracy is given by: 98.808542\n",
      "The validation accuracy is given by: 98.872697\n",
      "The testing accuracy is given by: 98.680231\n",
      "\n",
      "\n",
      "0.5 10 0.15\n",
      "The training accuracy is given by: 98.377784\n",
      "The validation accuracy is given by: 98.487765\n",
      "The testing accuracy is given by: 98.157822\n",
      "\n",
      "\n",
      "0.5 12 0.05\n",
      "The training accuracy is given by: 99.844194\n",
      "The validation accuracy is given by: 99.780038\n",
      "The testing accuracy is given by: 99.752543\n",
      "\n",
      "\n",
      "0.5 12 0.1\n",
      "The training accuracy is given by: 98.762717\n",
      "The validation accuracy is given by: 98.845202\n",
      "The testing accuracy is given by: 98.515260\n",
      "\n",
      "\n",
      "0.5 12 0.15\n",
      "The training accuracy is given by: 98.643571\n",
      "The validation accuracy is given by: 98.762717\n",
      "The testing accuracy is given by: 98.570250\n",
      "\n",
      "\n",
      "0.05 10 0.05\n",
      "The training accuracy is given by: 99.230135\n",
      "The validation accuracy is given by: 99.175144\n",
      "The testing accuracy is given by: 99.010173\n",
      "\n",
      "\n",
      "0.05 10 0.1\n",
      "The training accuracy is given by: 99.477591\n",
      "The validation accuracy is given by: 99.477591\n",
      "The testing accuracy is given by: 99.367611\n",
      "\n",
      "\n",
      "0.05 10 0.15\n",
      "The training accuracy is given by: 99.651728\n",
      "The validation accuracy is given by: 99.697553\n",
      "The testing accuracy is given by: 99.560077\n",
      "\n",
      "\n",
      "0.05 12 0.05\n",
      "The training accuracy is given by: 99.230135\n",
      "The validation accuracy is given by: 99.175144\n",
      "The testing accuracy is given by: 99.037668\n",
      "\n",
      "\n",
      "0.05 12 0.1\n",
      "The training accuracy is given by: 99.404271\n",
      "The validation accuracy is given by: 99.340115\n",
      "The testing accuracy is given by: 99.312620\n",
      "\n",
      "\n",
      "0.05 12 0.15\n",
      "The training accuracy is given by: 99.651728\n",
      "The validation accuracy is given by: 99.697553\n",
      "The testing accuracy is given by: 99.560077\n",
      "\n",
      "\n"
     ]
    }
   ],
   "source": [
    "for lr in (0.5, 0.05):\n",
    "    for n_epochs in (10, 12):\n",
    "        for reg_const in (0.05, 0.1, 0.15):\n",
    "            print(lr,n_epochs,reg_const)\n",
    "            softmax_RICE = Softmax(n_class_RICE, lr, n_epochs, reg_const)\n",
    "            softmax_RICE.train(X_train_RICE, y_train_RICE)\n",
    "            pred_softmax = softmax_RICE.predict(X_train_RICE)\n",
    "            print('The training accuracy is given by: %f' % (get_acc(pred_softmax, y_train_RICE)))\n",
    "            pred_softmax = softmax_RICE.predict(X_val_RICE)\n",
    "            print('The validation accuracy is given by: %f' % (get_acc(pred_softmax, y_val_RICE)))\n",
    "            pred_softmax = softmax_RICE.predict(X_test_RICE)\n",
    "            print('The testing accuracy is given by: %f' % (get_acc(pred_softmax, y_test_RICE)))\n",
    "            print(\"\\n\")"
   ]
  },
  {
   "cell_type": "code",
   "execution_count": 709,
   "metadata": {},
   "outputs": [],
   "source": [
    "lr = 0.5\n",
    "n_epochs = 10\n",
    "reg_const = 0.05\n",
    "\n",
    "softmax_RICE = Softmax(n_class_RICE, lr, n_epochs, reg_const)\n",
    "softmax_RICE.train(X_train_RICE, y_train_RICE)"
   ]
  },
  {
   "cell_type": "code",
   "execution_count": 710,
   "metadata": {},
   "outputs": [
    {
     "name": "stdout",
     "output_type": "stream",
     "text": [
      "The training accuracy is given by: 99.844194\n"
     ]
    }
   ],
   "source": [
    "pred_softmax = softmax_RICE.predict(X_train_RICE)\n",
    "print('The training accuracy is given by: %f' % (get_acc(pred_softmax, y_train_RICE)))"
   ]
  },
  {
   "attachments": {},
   "cell_type": "markdown",
   "metadata": {},
   "source": [
    "### Validate Softmax on Rice"
   ]
  },
  {
   "cell_type": "code",
   "execution_count": 711,
   "metadata": {},
   "outputs": [
    {
     "name": "stdout",
     "output_type": "stream",
     "text": [
      "The validation accuracy is given by: 99.780038\n"
     ]
    }
   ],
   "source": [
    "pred_softmax = softmax_RICE.predict(X_val_RICE)\n",
    "print('The validation accuracy is given by: %f' % (get_acc(pred_softmax, y_val_RICE)))"
   ]
  },
  {
   "attachments": {},
   "cell_type": "markdown",
   "metadata": {},
   "source": [
    "### Testing Softmax on Rice"
   ]
  },
  {
   "cell_type": "code",
   "execution_count": 712,
   "metadata": {},
   "outputs": [
    {
     "name": "stdout",
     "output_type": "stream",
     "text": [
      "The testing accuracy is given by: 99.752543\n"
     ]
    }
   ],
   "source": [
    "pred_softmax = softmax_RICE.predict(X_test_RICE)\n",
    "print('The testing accuracy is given by: %f' % (get_acc(pred_softmax, y_test_RICE)))"
   ]
  },
  {
   "cell_type": "markdown",
   "metadata": {},
   "source": [
    "# Logistic Classifier"
   ]
  },
  {
   "cell_type": "markdown",
   "metadata": {},
   "source": [
    "The Logistic Classifier has 2 hyperparameters that you can experiment with:\n",
    "- **Learning rate** - similar to as defined above in Perceptron, this parameter scales by how much the weights are changed according to the calculated gradient update. \n",
    "- **Number of Epochs** - As described for perceptron.\n",
    "- **Threshold** - The decision boundary of the classifier.\n"
   ]
  },
  {
   "cell_type": "markdown",
   "metadata": {},
   "source": [
    "You will implement the Logistic Classifier in the **models/logistic.py**\n",
    "\n",
    "The following code: \n",
    "- Creates an instance of the Logistic classifier class \n",
    "- The train function of the Logistic class is trained on the training data\n",
    "- We use the predict function to find the training accuracy as well as the testing accuracy"
   ]
  },
  {
   "cell_type": "markdown",
   "metadata": {},
   "source": [
    "### Training Logistic Classifer"
   ]
  },
  {
   "cell_type": "code",
   "execution_count": 727,
   "metadata": {},
   "outputs": [
    {
     "name": "stdout",
     "output_type": "stream",
     "text": [
      "0.5 10 0.5\n",
      "The training accuracy is given by: 99.770873\n",
      "The validation accuracy is given by: 99.780038\n",
      "The testing accuracy is given by: 99.587572\n",
      "\n",
      "\n",
      "0.5 10 0.6\n",
      "The training accuracy is given by: 99.770873\n",
      "The validation accuracy is given by: 99.752543\n",
      "The testing accuracy is given by: 99.587572\n",
      "\n",
      "\n",
      "0.5 10 0.7\n",
      "The training accuracy is given by: 99.770873\n",
      "The validation accuracy is given by: 99.752543\n",
      "The testing accuracy is given by: 99.587572\n",
      "\n",
      "\n",
      "0.5 12 0.5\n",
      "The training accuracy is given by: 99.871689\n",
      "The validation accuracy is given by: 99.835029\n",
      "The testing accuracy is given by: 99.780038\n",
      "\n",
      "\n",
      "0.5 12 0.6\n",
      "The training accuracy is given by: 99.670058\n",
      "The validation accuracy is given by: 99.725048\n",
      "The testing accuracy is given by: 99.560077\n",
      "\n",
      "\n",
      "0.5 12 0.7\n",
      "The training accuracy is given by: 99.871689\n",
      "The validation accuracy is given by: 99.835029\n",
      "The testing accuracy is given by: 99.780038\n",
      "\n",
      "\n",
      "0.05 10 0.5\n",
      "The training accuracy is given by: 99.752543\n",
      "The validation accuracy is given by: 99.725048\n",
      "The testing accuracy is given by: 99.587572\n",
      "\n",
      "\n",
      "0.05 10 0.6\n",
      "The training accuracy is given by: 99.770873\n",
      "The validation accuracy is given by: 99.752543\n",
      "The testing accuracy is given by: 99.587572\n",
      "\n",
      "\n",
      "0.05 10 0.7\n",
      "The training accuracy is given by: 99.789204\n",
      "The validation accuracy is given by: 99.835029\n",
      "The testing accuracy is given by: 99.642563\n",
      "\n",
      "\n",
      "0.05 12 0.5\n",
      "The training accuracy is given by: 99.770873\n",
      "The validation accuracy is given by: 99.780038\n",
      "The testing accuracy is given by: 99.587572\n",
      "\n",
      "\n",
      "0.05 12 0.6\n",
      "The training accuracy is given by: 99.807534\n",
      "The validation accuracy is given by: 99.835029\n",
      "The testing accuracy is given by: 99.752543\n",
      "\n",
      "\n",
      "0.05 12 0.7\n",
      "The training accuracy is given by: 99.770873\n",
      "The validation accuracy is given by: 99.780038\n",
      "The testing accuracy is given by: 99.587572\n",
      "\n",
      "\n"
     ]
    }
   ],
   "source": [
    "for learning_rate in (0.5, 0.05):\n",
    "    for n_epochs in (10, 12):\n",
    "        for threshold in (0.5, 0.6, 0.7):\n",
    "            print(learning_rate, n_epochs, threshold)\n",
    "            lr = Logistic(learning_rate, n_epochs, threshold)\n",
    "            lr.train(X_train_RICE, y_train_RICE)\n",
    "            pred_lr = lr.predict(X_train_RICE)\n",
    "            print('The training accuracy is given by: %f' % (get_acc(pred_lr, y_train_RICE)))\n",
    "            pred_lr = lr.predict(X_val_RICE)\n",
    "            print('The validation accuracy is given by: %f' % (get_acc(pred_lr, y_val_RICE)))\n",
    "            pred_lr = lr.predict(X_test_RICE)\n",
    "            print('The testing accuracy is given by: %f' % (get_acc(pred_lr, y_test_RICE)))\n",
    "            print(\"\\n\")"
   ]
  },
  {
   "cell_type": "code",
   "execution_count": 728,
   "metadata": {},
   "outputs": [],
   "source": [
    "learning_rate = 0.5\n",
    "n_epochs = 10\n",
    "threshold = 0.9\n",
    "\n",
    "lr = Logistic(learning_rate, n_epochs, threshold)\n",
    "lr.train(X_train_RICE, y_train_RICE)"
   ]
  },
  {
   "cell_type": "code",
   "execution_count": 729,
   "metadata": {},
   "outputs": [
    {
     "name": "stdout",
     "output_type": "stream",
     "text": [
      "The training accuracy is given by: 99.770873\n"
     ]
    }
   ],
   "source": [
    "pred_lr = lr.predict(X_train_RICE)\n",
    "print('The training accuracy is given by: %f' % (get_acc(pred_lr, y_train_RICE)))"
   ]
  },
  {
   "cell_type": "markdown",
   "metadata": {},
   "source": [
    "### Validate Logistic Classifer"
   ]
  },
  {
   "cell_type": "code",
   "execution_count": 730,
   "metadata": {},
   "outputs": [
    {
     "name": "stdout",
     "output_type": "stream",
     "text": [
      "The validation accuracy is given by: 99.780038\n"
     ]
    }
   ],
   "source": [
    "pred_lr = lr.predict(X_val_RICE)\n",
    "print('The validation accuracy is given by: %f' % (get_acc(pred_lr, y_val_RICE)))"
   ]
  },
  {
   "cell_type": "markdown",
   "metadata": {},
   "source": [
    "### Test Logistic Classifier"
   ]
  },
  {
   "cell_type": "code",
   "execution_count": 731,
   "metadata": {},
   "outputs": [
    {
     "name": "stdout",
     "output_type": "stream",
     "text": [
      "The testing accuracy is given by: 99.587572\n"
     ]
    }
   ],
   "source": [
    "pred_lr = lr.predict(X_test_RICE)\n",
    "print('The testing accuracy is given by: %f' % (get_acc(pred_lr, y_test_RICE)))"
   ]
  },
  {
   "cell_type": "code",
   "execution_count": null,
   "metadata": {},
   "outputs": [],
   "source": []
  }
 ],
 "metadata": {
  "kernelspec": {
   "display_name": "Python 3",
   "language": "python",
   "name": "python3"
  },
  "language_info": {
   "codemirror_mode": {
    "name": "ipython",
    "version": 3
   },
   "file_extension": ".py",
   "mimetype": "text/x-python",
   "name": "python",
   "nbconvert_exporter": "python",
   "pygments_lexer": "ipython3",
   "version": "3.10.10"
  },
  "vscode": {
   "interpreter": {
    "hash": "2c600f3fa83df65d408765edd591e7f47aab2dd6182c20846ee24acb19ae9141"
   }
  }
 },
 "nbformat": 4,
 "nbformat_minor": 1
}
