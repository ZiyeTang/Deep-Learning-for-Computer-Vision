{
  "cells": [
    {
      "cell_type": "markdown",
      "metadata": {
        "id": "IWMWW8Ab_345"
      },
      "source": [
        "# (Optional) Colab Setup\n",
        "If you aren't using Colab, you can delete the following code cell. This is just to help students with mounting to Google Drive to access the other .py files and downloading the data, which is a little trickier on Colab than on your local machine using Jupyter. "
      ]
    },
    {
      "cell_type": "code",
      "execution_count": 1,
      "metadata": {
        "id": "vH4wc4iD_6w_",
        "colab": {
          "base_uri": "https://localhost:8080/"
        },
        "outputId": "f3610dd3-6003-408a-e0ca-62dd2c7dc5cc"
      },
      "outputs": [
        {
          "output_type": "stream",
          "name": "stdout",
          "text": [
            "Mounted at /content/drive\n"
          ]
        }
      ],
      "source": [
        "# you will be prompted with a window asking to grant permissions\n",
        "from google.colab import drive\n",
        "drive.mount(\"/content/drive\")"
      ]
    },
    {
      "cell_type": "code",
      "execution_count": 2,
      "metadata": {
        "id": "XpNsPHZc_879",
        "colab": {
          "base_uri": "https://localhost:8080/"
        },
        "outputId": "950b8533-8e56-40cf-a033-aff0e94713d0"
      },
      "outputs": [
        {
          "output_type": "stream",
          "name": "stdout",
          "text": [
            "/content/drive/My Drive/CS444/assignment3/part1\n"
          ]
        }
      ],
      "source": [
        "# fill in the path in your Google Drive in the string below. Note: do not escape slashes or spaces\n",
        "import os\n",
        "datadir = \"/content/drive/My Drive/CS444/assignment3/part1\"\n",
        "if not os.path.exists(datadir):\n",
        "  !ln -s \"/content/drive/My Drive/CS444/assignment3/part1\" $datadir # TODO: Fill your A3 path\n",
        "os.chdir(datadir)\n",
        "!pwd"
      ]
    },
    {
      "cell_type": "markdown",
      "metadata": {
        "id": "Um5DJvBwb6xT"
      },
      "source": [
        "#Data Setup\n",
        "\n",
        "The first thing to do is implement a dataset class to load rotated CIFAR10 images with matching labels. Since there is already a CIFAR10 dataset class implemented in `torchvision`, we will extend this class and modify the `__get_item__` method appropriately to load rotated images.\n",
        "\n",
        "Each rotation label should be an integer in the set {0, 1, 2, 3} which correspond to rotations of 0, 90, 180, or 270 degrees respectively."
      ]
    },
    {
      "cell_type": "code",
      "execution_count": 3,
      "metadata": {
        "id": "oHkeNUOKiFbP"
      },
      "outputs": [],
      "source": [
        "import torch\n",
        "import torchvision\n",
        "import torchvision.transforms as transforms\n",
        "import numpy as np\n",
        "import random\n",
        "\n",
        "\n",
        "def rotate_img(img, rot):\n",
        "    if rot == 0: # 0 degrees rotation\n",
        "        return img\n",
        "    # TODO: Implement rotate_img() - return the rotated img\n",
        "    elif rot == 1:\n",
        "        return transforms.functional.rotate(img,90)\n",
        "    elif rot == 2:\n",
        "        return transforms.functional.rotate(img,180)\n",
        "    elif rot == 3:\n",
        "        return transforms.functional.rotate(img,270)\n",
        "    else:\n",
        "        raise ValueError('rotation should be 0, 90, 180, or 270 degrees')\n",
        "\n",
        "\n",
        "class CIFAR10Rotation(torchvision.datasets.CIFAR10):\n",
        "\n",
        "    def __init__(self, root, train, download, transform) -> None:\n",
        "        super().__init__(root=root, train=train, download=download, transform=transform)\n",
        "    \n",
        "    def __len__(self):\n",
        "        return len(self.data)\n",
        "    \n",
        "    def __getitem__(self, index: int):\n",
        "        image, cls_label = super().__getitem__(index)\n",
        "\n",
        "        # randomly select image rotation\n",
        "        rotation_label = random.choice([0, 1, 2, 3])\n",
        "        image_rotated = rotate_img(image, rotation_label)\n",
        "\n",
        "        rotation_label = torch.tensor(rotation_label).long()\n",
        "        return image, image_rotated, rotation_label, torch.tensor(cls_label).long()"
      ]
    },
    {
      "cell_type": "code",
      "execution_count": 4,
      "metadata": {
        "id": "CCBSpNWpb8uw",
        "colab": {
          "base_uri": "https://localhost:8080/"
        },
        "outputId": "66e6cd6b-153b-4b1c-d27c-749844035cdc"
      },
      "outputs": [
        {
          "output_type": "stream",
          "name": "stdout",
          "text": [
            "Files already downloaded and verified\n",
            "Files already downloaded and verified\n"
          ]
        }
      ],
      "source": [
        "transform_train = transforms.Compose([\n",
        "    transforms.RandomCrop(32, padding=4),\n",
        "    transforms.RandomHorizontalFlip(),\n",
        "    transforms.ToTensor(),\n",
        "    transforms.Normalize((0.4914, 0.4822, 0.4465), (0.2023, 0.1994, 0.2010)),\n",
        "])\n",
        "\n",
        "transform_test = transforms.Compose([\n",
        "    transforms.ToTensor(),\n",
        "    transforms.Normalize((0.4914, 0.4822, 0.4465), (0.2023, 0.1994, 0.2010)),\n",
        "])\n",
        "\n",
        "batch_size = 128\n",
        "\n",
        "trainset = CIFAR10Rotation(root='./data', train=True,\n",
        "                                        download=True, transform=transform_train)\n",
        "trainloader = torch.utils.data.DataLoader(trainset, batch_size=batch_size,\n",
        "                                          shuffle=True)\n",
        "\n",
        "testset = CIFAR10Rotation(root='./data', train=False,\n",
        "                                       download=True, transform=transform_test)\n",
        "testloader = torch.utils.data.DataLoader(testset, batch_size=batch_size,\n",
        "                                         shuffle=False)"
      ]
    },
    {
      "cell_type": "markdown",
      "metadata": {
        "id": "dOCWMyGhVOJB"
      },
      "source": [
        "Show some example images and rotated images with labels:"
      ]
    },
    {
      "cell_type": "code",
      "execution_count": 5,
      "metadata": {
        "id": "A9wN4BJWVMzB",
        "colab": {
          "base_uri": "https://localhost:8080/",
          "height": 428
        },
        "outputId": "f51bcdf4-5912-4a22-9f0e-744ff8fa8c19"
      },
      "outputs": [
        {
          "output_type": "stream",
          "name": "stderr",
          "text": [
            "WARNING:matplotlib.image:Clipping input data to the valid range for imshow with RGB data ([0..1] for floats or [0..255] for integers).\n"
          ]
        },
        {
          "output_type": "display_data",
          "data": {
            "text/plain": [
              "<Figure size 640x480 with 1 Axes>"
            ],
            "image/png": "[encoded data removed]"
          },
          "metadata": {}
        },
        {
          "output_type": "stream",
          "name": "stderr",
          "text": [
            "WARNING:matplotlib.image:Clipping input data to the valid range for imshow with RGB data ([0..1] for floats or [0..255] for integers).\n"
          ]
        },
        {
          "output_type": "stream",
          "name": "stdout",
          "text": [
            "Class labels:  deer  deer  frog  plane\n"
          ]
        },
        {
          "output_type": "display_data",
          "data": {
            "text/plain": [
              "<Figure size 640x480 with 1 Axes>"
            ],
            "image/png": "[encoded data removed]"
          },
          "metadata": {}
        },
        {
          "output_type": "stream",
          "name": "stdout",
          "text": [
            "Rotation labels:  270   270   270   180  \n"
          ]
        }
      ],
      "source": [
        "import matplotlib.pyplot as plt\n",
        "\n",
        "classes = ('plane', 'car', 'bird', 'cat',\n",
        "           'deer', 'dog', 'frog', 'horse', 'ship', 'truck')\n",
        "\n",
        "rot_classes = ('0', '90', '180', '270')\n",
        "\n",
        "\n",
        "def imshow(img):\n",
        "    # unnormalize\n",
        "    img = transforms.Normalize((0, 0, 0), (1/0.2023, 1/0.1994, 1/0.2010))(img)\n",
        "    img = transforms.Normalize((-0.4914, -0.4822, -0.4465), (1, 1, 1))(img)\n",
        "    npimg = img.numpy()\n",
        "    plt.imshow(np.transpose(npimg, (1, 2, 0)))\n",
        "    plt.show()\n",
        "\n",
        "\n",
        "dataiter = iter(trainloader)\n",
        "images, rot_images, rot_labels, labels = next(dataiter)\n",
        "\n",
        "# print images and rotated images\n",
        "img_grid = imshow(torchvision.utils.make_grid(images[:4], padding=0))\n",
        "print('Class labels: ', ' '.join(f'{classes[labels[j]]:5s}' for j in range(4)))\n",
        "img_grid = imshow(torchvision.utils.make_grid(rot_images[:4], padding=0))\n",
        "print('Rotation labels: ', ' '.join(f'{rot_classes[rot_labels[j]]:5s}' for j in range(4)))"
      ]
    },
    {
      "cell_type": "markdown",
      "metadata": {
        "id": "unCucbHexG4W"
      },
      "source": [
        "#Evaluation code"
      ]
    },
    {
      "cell_type": "code",
      "execution_count": 6,
      "metadata": {
        "id": "pptQRpqK0rOl"
      },
      "outputs": [],
      "source": [
        "import time\n",
        "\n",
        "def run_test(net, testloader, criterion, task):\n",
        "    correct = 0\n",
        "    total = 0\n",
        "    avg_test_loss = 0.0\n",
        "    # since we're not training, we don't need to calculate the gradients for our outputs\n",
        "    with torch.no_grad():\n",
        "        for images, images_rotated, labels, cls_labels in testloader:\n",
        "            if task == 'rotation':\n",
        "              images, labels = images_rotated.to(device), labels.to(device)\n",
        "            elif task == 'classification':\n",
        "              images, labels = images.to(device), cls_labels.to(device)\n",
        "            # TODO: Calculate outputs by running images through the network\n",
        "            # The class with the highest energy is what we choose as prediction\n",
        "            outputs = net(images)\n",
        "            _, predicted = torch.max(outputs.data, 1)\n",
        "            total += labels.size(0)\n",
        "            correct += (predicted == labels).sum().item()\n",
        "            # loss\n",
        "            avg_test_loss += criterion(outputs, labels)  / len(testloader)\n",
        "    print('TESTING:')\n",
        "    print(f'Accuracy of the network on the 10000 test images: {100 * correct / total:.2f} %')\n",
        "    print(f'Average loss on the 10000 test images: {avg_test_loss:.3f}')"
      ]
    },
    {
      "cell_type": "code",
      "execution_count": 7,
      "metadata": {
        "id": "hf698c16A9k5"
      },
      "outputs": [],
      "source": [
        "def adjust_learning_rate(optimizer, epoch, init_lr, decay_epochs=30):\n",
        "    \"\"\"Sets the learning rate to the initial LR decayed by 10 every 30 epochs\"\"\"\n",
        "    lr = init_lr * (0.1 ** (epoch // decay_epochs))\n",
        "    for param_group in optimizer.param_groups:\n",
        "        param_group['lr'] = lr"
      ]
    },
    {
      "cell_type": "markdown",
      "metadata": {
        "id": "3lYdnb1Wsta_"
      },
      "source": [
        "#Train a ResNet18 on the rotation task\n",
        "\n",
        "In this section, we will train a ResNet18 model on the rotation task. The input is a rotated image and the model predicts the rotation label. See the Data Setup section for details."
      ]
    },
    {
      "cell_type": "code",
      "execution_count": 8,
      "metadata": {
        "id": "knAiwdURvBHk",
        "colab": {
          "base_uri": "https://localhost:8080/",
          "height": 36
        },
        "outputId": "cc46b53e-797e-4c03-cc8b-dcc94bd22e31"
      },
      "outputs": [
        {
          "output_type": "execute_result",
          "data": {
            "text/plain": [
              "'cuda'"
            ],
            "application/vnd.google.colaboratory.intrinsic+json": {
              "type": "string"
            }
          },
          "metadata": {},
          "execution_count": 8
        }
      ],
      "source": [
        "device = 'cuda' if torch.cuda.is_available() else 'cpu'\n",
        "device"
      ]
    },
    {
      "cell_type": "code",
      "execution_count": 9,
      "metadata": {
        "id": "235MEIUgsv65"
      },
      "outputs": [],
      "source": [
        "import torch.nn as nn\n",
        "import torch.nn.functional as F\n",
        "\n",
        "from torchvision.models import resnet18\n",
        "\n",
        "net = resnet18(num_classes=4)\n",
        "net = net.to(device)"
      ]
    },
    {
      "cell_type": "code",
      "execution_count": 10,
      "metadata": {
        "id": "Vuhiw0ZoszAd"
      },
      "outputs": [],
      "source": [
        "import torch.optim as optim\n",
        "criterion = None\n",
        "optimizer = None\n",
        "\n",
        "# TODO: Define criterion and optimizer\n",
        "#\n",
        "criterion = torch.nn.CrossEntropyLoss()\n",
        "optimizer = torch.optim.Adam(net.parameters())"
      ]
    },
    {
      "cell_type": "code",
      "execution_count": 11,
      "metadata": {
        "id": "WleH-YBgs0rq"
      },
      "outputs": [],
      "source": [
        "# Both the self-supervised rotation task and supervised CIFAR10 classification are\n",
        "# trained with the CrossEntropyLoss, so we can use the training loop code.\n",
        "\n",
        "def train(net, criterion, optimizer, num_epochs, decay_epochs, init_lr, task):\n",
        "\n",
        "    for epoch in range(num_epochs):  # loop over the dataset multiple times\n",
        "\n",
        "        running_loss = 0.0\n",
        "        running_correct = 0.0\n",
        "        running_total = 0.0\n",
        "        start_time = time.time()\n",
        "\n",
        "        net.train()\n",
        "\n",
        "        for i, (imgs, imgs_rotated, rotation_label, cls_label) in enumerate(trainloader, 0):\n",
        "            adjust_learning_rate(optimizer, epoch, init_lr, decay_epochs)\n",
        "\n",
        "            # TODO: Set the data to the correct device; Different task will use different inputs and labels\n",
        "            if task == 'rotation':\n",
        "              images, labels = imgs_rotated.to(device), rotation_label.to(device)\n",
        "            elif task == 'classification':\n",
        "              images, labels = imgs.to(device), cls_label.to(device)\n",
        "\n",
        "            # TODO: Zero the parameter gradients\n",
        "            optimizer.zero_grad()\n",
        "\n",
        "            # TODO: forward + backward + optimize\n",
        "            outputs = net(images)\n",
        "            loss = criterion(outputs, labels)\n",
        "            loss.backward()\n",
        "            optimizer.step()\n",
        "\n",
        "            # TODO: Get predicted results\n",
        "            predicted = torch.argmax(outputs, dim=1)\n",
        "\n",
        "            # print statistics\n",
        "            print_freq = 100\n",
        "            running_loss += loss.item()\n",
        "\n",
        "            # calc acc\n",
        "            running_total += labels.size(0)\n",
        "            running_correct += (predicted == labels).sum().item()\n",
        "\n",
        "            if i % print_freq == (print_freq - 1):    # print every 2000 mini-batches\n",
        "                print(f'[{epoch + 1}, {i + 1:5d}] loss: {running_loss / print_freq:.3f} acc: {100*running_correct / running_total:.2f} time: {time.time() - start_time:.2f}')\n",
        "                running_loss, running_correct, running_total = 0.0, 0.0, 0.0\n",
        "                start_time = time.time()\n",
        "\n",
        "        # TODO: Run the run_test() function after each epoch; Set the model to the evaluation mode.\n",
        "        net.eval() \n",
        "        run_test(net, testloader, criterion, task)\n",
        "\n",
        "    print('Finished Training')"
      ]
    },
    {
      "cell_type": "code",
      "execution_count": 12,
      "metadata": {
        "id": "2u4AsfAKtaQS",
        "colab": {
          "base_uri": "https://localhost:8080/"
        },
        "outputId": "0da18044-665c-4823-f18b-96d5bac66006"
      },
      "outputs": [
        {
          "output_type": "stream",
          "name": "stdout",
          "text": [
            "[1,   100] loss: 1.560 acc: 31.34 time: 19.48\n",
            "[1,   200] loss: 1.287 acc: 44.59 time: 11.50\n",
            "[1,   300] loss: 1.201 acc: 46.73 time: 12.47\n",
            "TESTING:\n",
            "Accuracy of the network on the 10000 test images: 50.73 %\n",
            "Average loss on the 10000 test images: 1.103\n",
            "[2,   100] loss: 1.125 acc: 50.29 time: 11.63\n",
            "[2,   200] loss: 1.088 acc: 51.92 time: 11.73\n",
            "[2,   300] loss: 1.083 acc: 52.34 time: 12.15\n",
            "TESTING:\n",
            "Accuracy of the network on the 10000 test images: 53.08 %\n",
            "Average loss on the 10000 test images: 1.099\n",
            "[3,   100] loss: 1.045 acc: 54.89 time: 12.46\n",
            "[3,   200] loss: 1.034 acc: 55.44 time: 11.84\n",
            "[3,   300] loss: 1.029 acc: 55.64 time: 11.78\n",
            "TESTING:\n",
            "Accuracy of the network on the 10000 test images: 58.91 %\n",
            "Average loss on the 10000 test images: 0.987\n",
            "[4,   100] loss: 1.004 acc: 57.64 time: 12.10\n",
            "[4,   200] loss: 0.977 acc: 58.80 time: 11.99\n",
            "[4,   300] loss: 0.987 acc: 58.41 time: 11.88\n",
            "TESTING:\n",
            "Accuracy of the network on the 10000 test images: 60.67 %\n",
            "Average loss on the 10000 test images: 0.938\n",
            "[5,   100] loss: 0.953 acc: 59.73 time: 11.90\n",
            "[5,   200] loss: 0.941 acc: 60.56 time: 11.99\n",
            "[5,   300] loss: 0.938 acc: 61.25 time: 11.99\n",
            "TESTING:\n",
            "Accuracy of the network on the 10000 test images: 61.76 %\n",
            "Average loss on the 10000 test images: 0.910\n",
            "[6,   100] loss: 0.916 acc: 61.20 time: 11.87\n",
            "[6,   200] loss: 0.905 acc: 62.12 time: 12.63\n",
            "[6,   300] loss: 0.892 acc: 62.79 time: 11.94\n",
            "TESTING:\n",
            "Accuracy of the network on the 10000 test images: 63.40 %\n",
            "Average loss on the 10000 test images: 0.886\n",
            "[7,   100] loss: 0.887 acc: 63.02 time: 11.88\n",
            "[7,   200] loss: 0.888 acc: 63.08 time: 11.81\n",
            "[7,   300] loss: 0.879 acc: 63.28 time: 11.91\n",
            "TESTING:\n",
            "Accuracy of the network on the 10000 test images: 64.48 %\n",
            "Average loss on the 10000 test images: 0.845\n",
            "[8,   100] loss: 0.874 acc: 63.61 time: 11.94\n",
            "[8,   200] loss: 0.862 acc: 63.52 time: 11.90\n",
            "[8,   300] loss: 0.855 acc: 64.51 time: 12.49\n",
            "TESTING:\n",
            "Accuracy of the network on the 10000 test images: 65.99 %\n",
            "Average loss on the 10000 test images: 0.840\n",
            "[9,   100] loss: 0.852 acc: 64.95 time: 11.81\n",
            "[9,   200] loss: 0.836 acc: 65.84 time: 11.47\n",
            "[9,   300] loss: 0.839 acc: 65.46 time: 11.57\n",
            "TESTING:\n",
            "Accuracy of the network on the 10000 test images: 66.66 %\n",
            "Average loss on the 10000 test images: 0.811\n",
            "[10,   100] loss: 0.839 acc: 65.75 time: 11.64\n",
            "[10,   200] loss: 0.825 acc: 66.40 time: 11.68\n",
            "[10,   300] loss: 0.816 acc: 66.58 time: 11.85\n",
            "TESTING:\n",
            "Accuracy of the network on the 10000 test images: 68.06 %\n",
            "Average loss on the 10000 test images: 0.780\n",
            "[11,   100] loss: 0.796 acc: 67.48 time: 11.35\n",
            "[11,   200] loss: 0.815 acc: 66.75 time: 12.02\n",
            "[11,   300] loss: 0.813 acc: 66.59 time: 11.74\n",
            "TESTING:\n",
            "Accuracy of the network on the 10000 test images: 68.63 %\n",
            "Average loss on the 10000 test images: 0.762\n",
            "[12,   100] loss: 0.783 acc: 68.36 time: 11.79\n",
            "[12,   200] loss: 0.804 acc: 67.18 time: 11.79\n",
            "[12,   300] loss: 0.778 acc: 68.30 time: 11.99\n",
            "TESTING:\n",
            "Accuracy of the network on the 10000 test images: 68.24 %\n",
            "Average loss on the 10000 test images: 0.780\n",
            "[13,   100] loss: 0.776 acc: 69.04 time: 12.34\n",
            "[13,   200] loss: 0.781 acc: 68.27 time: 11.82\n",
            "[13,   300] loss: 0.768 acc: 68.83 time: 11.70\n",
            "TESTING:\n",
            "Accuracy of the network on the 10000 test images: 70.16 %\n",
            "Average loss on the 10000 test images: 0.749\n",
            "[14,   100] loss: 0.771 acc: 68.52 time: 11.99\n",
            "[14,   200] loss: 0.752 acc: 69.35 time: 12.39\n",
            "[14,   300] loss: 0.750 acc: 69.27 time: 11.94\n",
            "TESTING:\n",
            "Accuracy of the network on the 10000 test images: 70.14 %\n",
            "Average loss on the 10000 test images: 0.768\n",
            "[15,   100] loss: 0.738 acc: 70.02 time: 11.77\n",
            "[15,   200] loss: 0.731 acc: 70.23 time: 11.78\n",
            "[15,   300] loss: 0.747 acc: 69.98 time: 12.52\n",
            "TESTING:\n",
            "Accuracy of the network on the 10000 test images: 70.35 %\n",
            "Average loss on the 10000 test images: 0.748\n",
            "[16,   100] loss: 0.695 acc: 72.35 time: 11.83\n",
            "[16,   200] loss: 0.674 acc: 73.17 time: 11.84\n",
            "[16,   300] loss: 0.669 acc: 73.72 time: 11.60\n",
            "TESTING:\n",
            "Accuracy of the network on the 10000 test images: 74.98 %\n",
            "Average loss on the 10000 test images: 0.629\n",
            "[17,   100] loss: 0.649 acc: 74.25 time: 11.90\n",
            "[17,   200] loss: 0.650 acc: 73.96 time: 11.45\n",
            "[17,   300] loss: 0.655 acc: 73.76 time: 11.49\n",
            "TESTING:\n",
            "Accuracy of the network on the 10000 test images: 75.38 %\n",
            "Average loss on the 10000 test images: 0.619\n",
            "[18,   100] loss: 0.641 acc: 74.55 time: 11.33\n",
            "[18,   200] loss: 0.656 acc: 73.91 time: 11.60\n",
            "[18,   300] loss: 0.629 acc: 74.99 time: 11.79\n",
            "TESTING:\n",
            "Accuracy of the network on the 10000 test images: 75.54 %\n",
            "Average loss on the 10000 test images: 0.609\n",
            "[19,   100] loss: 0.630 acc: 75.13 time: 11.82\n",
            "[19,   200] loss: 0.628 acc: 75.34 time: 11.68\n",
            "[19,   300] loss: 0.635 acc: 74.91 time: 11.87\n",
            "TESTING:\n",
            "Accuracy of the network on the 10000 test images: 76.24 %\n",
            "Average loss on the 10000 test images: 0.599\n",
            "[20,   100] loss: 0.620 acc: 75.58 time: 12.97\n",
            "[20,   200] loss: 0.630 acc: 74.65 time: 11.99\n",
            "[20,   300] loss: 0.619 acc: 75.34 time: 11.99\n",
            "TESTING:\n",
            "Accuracy of the network on the 10000 test images: 76.11 %\n",
            "Average loss on the 10000 test images: 0.598\n",
            "[21,   100] loss: 0.607 acc: 75.82 time: 11.90\n",
            "[21,   200] loss: 0.630 acc: 75.34 time: 12.04\n",
            "[21,   300] loss: 0.604 acc: 75.87 time: 11.70\n",
            "TESTING:\n",
            "Accuracy of the network on the 10000 test images: 76.49 %\n",
            "Average loss on the 10000 test images: 0.593\n",
            "[22,   100] loss: 0.613 acc: 75.80 time: 12.12\n",
            "[22,   200] loss: 0.619 acc: 75.95 time: 12.29\n",
            "[22,   300] loss: 0.618 acc: 75.87 time: 12.44\n",
            "TESTING:\n",
            "Accuracy of the network on the 10000 test images: 77.02 %\n",
            "Average loss on the 10000 test images: 0.588\n",
            "[23,   100] loss: 0.614 acc: 75.54 time: 12.12\n",
            "[23,   200] loss: 0.618 acc: 75.49 time: 11.95\n",
            "[23,   300] loss: 0.612 acc: 75.88 time: 12.04\n",
            "TESTING:\n",
            "Accuracy of the network on the 10000 test images: 76.42 %\n",
            "Average loss on the 10000 test images: 0.592\n",
            "[24,   100] loss: 0.617 acc: 75.47 time: 12.17\n",
            "[24,   200] loss: 0.609 acc: 76.23 time: 12.11\n",
            "[24,   300] loss: 0.598 acc: 76.27 time: 11.73\n",
            "TESTING:\n",
            "Accuracy of the network on the 10000 test images: 76.43 %\n",
            "Average loss on the 10000 test images: 0.588\n",
            "[25,   100] loss: 0.592 acc: 76.44 time: 11.95\n",
            "[25,   200] loss: 0.591 acc: 76.80 time: 11.88\n",
            "[25,   300] loss: 0.605 acc: 75.82 time: 11.45\n",
            "TESTING:\n",
            "Accuracy of the network on the 10000 test images: 76.84 %\n",
            "Average loss on the 10000 test images: 0.581\n",
            "[26,   100] loss: 0.586 acc: 76.97 time: 11.87\n",
            "[26,   200] loss: 0.598 acc: 76.71 time: 11.54\n",
            "[26,   300] loss: 0.595 acc: 76.34 time: 11.75\n",
            "TESTING:\n",
            "Accuracy of the network on the 10000 test images: 77.06 %\n",
            "Average loss on the 10000 test images: 0.574\n",
            "[27,   100] loss: 0.589 acc: 76.83 time: 11.51\n",
            "[27,   200] loss: 0.588 acc: 76.99 time: 11.67\n",
            "[27,   300] loss: 0.585 acc: 77.08 time: 11.88\n",
            "TESTING:\n",
            "Accuracy of the network on the 10000 test images: 77.54 %\n",
            "Average loss on the 10000 test images: 0.574\n",
            "[28,   100] loss: 0.592 acc: 76.71 time: 11.71\n",
            "[28,   200] loss: 0.575 acc: 77.75 time: 11.79\n",
            "[28,   300] loss: 0.593 acc: 77.00 time: 11.79\n",
            "TESTING:\n",
            "Accuracy of the network on the 10000 test images: 77.44 %\n",
            "Average loss on the 10000 test images: 0.567\n",
            "[29,   100] loss: 0.575 acc: 77.40 time: 11.73\n",
            "[29,   200] loss: 0.587 acc: 76.59 time: 12.45\n",
            "[29,   300] loss: 0.589 acc: 76.80 time: 11.86\n",
            "TESTING:\n",
            "Accuracy of the network on the 10000 test images: 77.46 %\n",
            "Average loss on the 10000 test images: 0.566\n",
            "[30,   100] loss: 0.576 acc: 77.24 time: 11.76\n",
            "[30,   200] loss: 0.570 acc: 77.58 time: 11.64\n",
            "[30,   300] loss: 0.574 acc: 77.79 time: 11.68\n",
            "TESTING:\n",
            "Accuracy of the network on the 10000 test images: 77.54 %\n",
            "Average loss on the 10000 test images: 0.559\n",
            "[31,   100] loss: 0.563 acc: 78.25 time: 11.82\n",
            "[31,   200] loss: 0.572 acc: 77.89 time: 11.82\n",
            "[31,   300] loss: 0.569 acc: 77.89 time: 11.37\n",
            "TESTING:\n",
            "Accuracy of the network on the 10000 test images: 77.98 %\n",
            "Average loss on the 10000 test images: 0.555\n",
            "[32,   100] loss: 0.559 acc: 78.18 time: 11.95\n",
            "[32,   200] loss: 0.557 acc: 78.81 time: 11.45\n",
            "[32,   300] loss: 0.582 acc: 77.12 time: 11.52\n",
            "TESTING:\n",
            "Accuracy of the network on the 10000 test images: 78.05 %\n",
            "Average loss on the 10000 test images: 0.555\n",
            "[33,   100] loss: 0.559 acc: 78.17 time: 11.57\n",
            "[33,   200] loss: 0.573 acc: 77.41 time: 11.56\n",
            "[33,   300] loss: 0.565 acc: 78.28 time: 11.76\n",
            "TESTING:\n",
            "Accuracy of the network on the 10000 test images: 77.84 %\n",
            "Average loss on the 10000 test images: 0.558\n",
            "[34,   100] loss: 0.584 acc: 76.96 time: 11.74\n",
            "[34,   200] loss: 0.550 acc: 78.55 time: 11.85\n",
            "[34,   300] loss: 0.566 acc: 77.62 time: 11.84\n",
            "TESTING:\n",
            "Accuracy of the network on the 10000 test images: 78.58 %\n",
            "Average loss on the 10000 test images: 0.550\n",
            "[35,   100] loss: 0.577 acc: 77.74 time: 11.76\n",
            "[35,   200] loss: 0.555 acc: 78.08 time: 11.81\n",
            "[35,   300] loss: 0.550 acc: 78.25 time: 11.73\n",
            "TESTING:\n",
            "Accuracy of the network on the 10000 test images: 78.06 %\n",
            "Average loss on the 10000 test images: 0.556\n",
            "[36,   100] loss: 0.561 acc: 78.16 time: 11.87\n",
            "[36,   200] loss: 0.570 acc: 77.53 time: 12.51\n",
            "[36,   300] loss: 0.552 acc: 78.54 time: 11.67\n",
            "TESTING:\n",
            "Accuracy of the network on the 10000 test images: 78.54 %\n",
            "Average loss on the 10000 test images: 0.552\n",
            "[37,   100] loss: 0.550 acc: 78.46 time: 11.53\n",
            "[37,   200] loss: 0.563 acc: 78.14 time: 11.31\n",
            "[37,   300] loss: 0.559 acc: 78.09 time: 11.69\n",
            "TESTING:\n",
            "Accuracy of the network on the 10000 test images: 78.31 %\n",
            "Average loss on the 10000 test images: 0.555\n",
            "[38,   100] loss: 0.556 acc: 78.07 time: 11.51\n",
            "[38,   200] loss: 0.553 acc: 78.20 time: 11.93\n",
            "[38,   300] loss: 0.559 acc: 78.04 time: 11.72\n",
            "TESTING:\n",
            "Accuracy of the network on the 10000 test images: 78.55 %\n",
            "Average loss on the 10000 test images: 0.546\n",
            "[39,   100] loss: 0.565 acc: 77.56 time: 11.86\n",
            "[39,   200] loss: 0.570 acc: 77.58 time: 11.99\n",
            "[39,   300] loss: 0.554 acc: 78.34 time: 11.88\n",
            "TESTING:\n",
            "Accuracy of the network on the 10000 test images: 78.42 %\n",
            "Average loss on the 10000 test images: 0.547\n",
            "[40,   100] loss: 0.554 acc: 77.97 time: 11.79\n",
            "[40,   200] loss: 0.559 acc: 78.09 time: 11.95\n",
            "[40,   300] loss: 0.551 acc: 78.82 time: 11.74\n",
            "TESTING:\n",
            "Accuracy of the network on the 10000 test images: 78.54 %\n",
            "Average loss on the 10000 test images: 0.548\n",
            "[41,   100] loss: 0.570 acc: 77.85 time: 12.56\n",
            "[41,   200] loss: 0.550 acc: 78.52 time: 11.88\n",
            "[41,   300] loss: 0.560 acc: 78.07 time: 11.87\n",
            "TESTING:\n",
            "Accuracy of the network on the 10000 test images: 78.30 %\n",
            "Average loss on the 10000 test images: 0.551\n",
            "[42,   100] loss: 0.554 acc: 78.39 time: 11.76\n",
            "[42,   200] loss: 0.561 acc: 78.50 time: 11.71\n",
            "[42,   300] loss: 0.550 acc: 78.68 time: 11.35\n",
            "TESTING:\n",
            "Accuracy of the network on the 10000 test images: 78.10 %\n",
            "Average loss on the 10000 test images: 0.553\n",
            "[43,   100] loss: 0.556 acc: 78.65 time: 11.64\n",
            "[43,   200] loss: 0.550 acc: 78.66 time: 12.34\n",
            "[43,   300] loss: 0.567 acc: 77.79 time: 11.36\n",
            "TESTING:\n",
            "Accuracy of the network on the 10000 test images: 78.74 %\n",
            "Average loss on the 10000 test images: 0.545\n",
            "[44,   100] loss: 0.556 acc: 78.17 time: 11.60\n",
            "[44,   200] loss: 0.560 acc: 78.27 time: 11.65\n",
            "[44,   300] loss: 0.554 acc: 78.39 time: 11.76\n",
            "TESTING:\n",
            "Accuracy of the network on the 10000 test images: 78.55 %\n",
            "Average loss on the 10000 test images: 0.548\n",
            "[45,   100] loss: 0.551 acc: 78.75 time: 11.81\n",
            "[45,   200] loss: 0.554 acc: 78.50 time: 11.76\n",
            "[45,   300] loss: 0.556 acc: 78.30 time: 12.15\n",
            "TESTING:\n",
            "Accuracy of the network on the 10000 test images: 78.75 %\n",
            "Average loss on the 10000 test images: 0.543\n",
            "Finished Training\n"
          ]
        }
      ],
      "source": [
        "train(net, criterion, optimizer, num_epochs=45, decay_epochs=15, init_lr=0.01, task='rotation')\n",
        "\n",
        "# TODO: Save the model\n",
        "PATH = './model_rotation.pth'\n",
        "torch.save(net.state_dict(), PATH)"
      ]
    },
    {
      "cell_type": "markdown",
      "metadata": {
        "id": "PLLMRTS9rTnk"
      },
      "source": [
        "##Fine-tuning on the pre-trained model\n",
        "\n",
        "In this section, we will load the pre-trained ResNet18 model and fine-tune on the classification task. We will freeze all previous layers except for the 'layer4' block and 'fc' layer."
      ]
    },
    {
      "cell_type": "code",
      "execution_count": 13,
      "metadata": {
        "id": "S4nX4ExlrymI",
        "colab": {
          "base_uri": "https://localhost:8080/",
          "height": 156,
          "referenced_widgets": [
            "ce2b7e63f7e04c4097a61081fffaa2bb",
            "95ece78a7d804778b19b98aeb2d14e6a",
            "a8543b1da442496b891d654455845d8a",
            "501318ddac5343429bffdbc66d99dacf",
            "1da7f5d8310048df95576fa3f8823e2e",
            "bceb4af1cb7d4ee286ac52a2fa8b4ae6",
            "b61efe93f64446dfbeca6ccd0b86896e",
            "f541bd764b794cb0bf11e38a2e2ec41f",
            "17bd95f5eea84843a8a34dd62dcd6f8d",
            "d70071bdb4a44245a61ef1c1f87513c3",
            "3d80e5af679044349a7485287e48b8be"
          ]
        },
        "outputId": "69db63e3-c10f-4b3f-d9db-d47fcfbc994e"
      },
      "outputs": [
        {
          "output_type": "stream",
          "name": "stderr",
          "text": [
            "/usr/local/lib/python3.9/dist-packages/torchvision/models/_utils.py:208: UserWarning: The parameter 'pretrained' is deprecated since 0.13 and may be removed in the future, please use 'weights' instead.\n",
            "  warnings.warn(\n",
            "/usr/local/lib/python3.9/dist-packages/torchvision/models/_utils.py:223: UserWarning: Arguments other than a weight enum or `None` for 'weights' are deprecated since 0.13 and may be removed in the future. The current behavior is equivalent to passing `weights=ResNet18_Weights.IMAGENET1K_V1`. You can also use `weights=ResNet18_Weights.DEFAULT` to get the most up-to-date weights.\n",
            "  warnings.warn(msg)\n",
            "Downloading: \"https://download.pytorch.org/models/resnet18-f37072fd.pth\" to /root/.cache/torch/hub/checkpoints/resnet18-f37072fd.pth\n"
          ]
        },
        {
          "output_type": "display_data",
          "data": {
            "text/plain": [
              "  0%|          | 0.00/44.7M [00:00<?, ?B/s]"
            ],
            "application/vnd.jupyter.widget-view+json": {
              "version_major": 2,
              "version_minor": 0,
              "model_id": "ce2b7e63f7e04c4097a61081fffaa2bb"
            }
          },
          "metadata": {}
        }
      ],
      "source": [
        "import torch.nn as nn\n",
        "import torch.nn.functional as F\n",
        "\n",
        "from torchvision.models import resnet18\n",
        "\n",
        "# TODO: Load the pre-trained ResNet18 model\n",
        "net = resnet18(pretrained = True)\n",
        "\n",
        "num_ftrs = net.fc.in_features\n",
        "net.fc = nn.Linear(num_ftrs, 10)\n",
        "\n",
        "net = net.to(device)"
      ]
    },
    {
      "cell_type": "code",
      "execution_count": 14,
      "metadata": {
        "id": "kD44g-TxwYdU"
      },
      "outputs": [],
      "source": [
        "# TODO: Freeze all previous layers; only keep the 'layer4' block and 'fc' layer trainable\n",
        "for name, param in net.named_parameters():\n",
        "    if 'layer4' in name or 'fc' in name:\n",
        "        param.requires_grad = True\n",
        "    else:\n",
        "        param.requires_grad = False"
      ]
    },
    {
      "cell_type": "code",
      "execution_count": 15,
      "metadata": {
        "id": "9T5DX0efr4fh",
        "colab": {
          "base_uri": "https://localhost:8080/"
        },
        "outputId": "2f11f020-bce9-4276-f57b-97cc1591a6af"
      },
      "outputs": [
        {
          "output_type": "stream",
          "name": "stdout",
          "text": [
            "Params to learn:\n",
            "\t layer4.0.conv1.weight\n",
            "\t layer4.0.bn1.weight\n",
            "\t layer4.0.bn1.bias\n",
            "\t layer4.0.conv2.weight\n",
            "\t layer4.0.bn2.weight\n",
            "\t layer4.0.bn2.bias\n",
            "\t layer4.0.downsample.0.weight\n",
            "\t layer4.0.downsample.1.weight\n",
            "\t layer4.0.downsample.1.bias\n",
            "\t layer4.1.conv1.weight\n",
            "\t layer4.1.bn1.weight\n",
            "\t layer4.1.bn1.bias\n",
            "\t layer4.1.conv2.weight\n",
            "\t layer4.1.bn2.weight\n",
            "\t layer4.1.bn2.bias\n",
            "\t fc.weight\n",
            "\t fc.bias\n"
          ]
        }
      ],
      "source": [
        "# Print all the trainable parameters\n",
        "params_to_update = net.parameters()\n",
        "print(\"Params to learn:\")\n",
        "params_to_update = []\n",
        "for name,param in net.named_parameters():\n",
        "    if param.requires_grad == True:\n",
        "        params_to_update.append(param)\n",
        "        print(\"\\t\",name)"
      ]
    },
    {
      "cell_type": "code",
      "execution_count": 16,
      "metadata": {
        "id": "xb032dG700ph"
      },
      "outputs": [],
      "source": [
        "# TODO: Define criterion and optimizer\n",
        "# Note that your optimizer only needs to update the parameters that are trainable.\n",
        "criterion = nn.CrossEntropyLoss()\n",
        "optimizer = optim.Adam(filter(lambda p: p.requires_grad, net.parameters()))"
      ]
    },
    {
      "cell_type": "code",
      "execution_count": 17,
      "metadata": {
        "id": "3vLSwOo6sBjl",
        "colab": {
          "base_uri": "https://localhost:8080/"
        },
        "outputId": "bbf9b7d5-a7de-4d33-e292-5a7f1835997d"
      },
      "outputs": [
        {
          "output_type": "stream",
          "name": "stdout",
          "text": [
            "[1,   100] loss: 1.821 acc: 45.52 time: 10.06\n",
            "[1,   200] loss: 1.328 acc: 56.59 time: 9.55\n",
            "[1,   300] loss: 1.371 acc: 57.34 time: 9.46\n",
            "TESTING:\n",
            "Accuracy of the network on the 10000 test images: 62.67 %\n",
            "Average loss on the 10000 test images: 1.087\n",
            "[2,   100] loss: 1.110 acc: 62.43 time: 10.00\n",
            "[2,   200] loss: 1.108 acc: 62.02 time: 10.11\n",
            "[2,   300] loss: 1.118 acc: 61.76 time: 9.16\n",
            "TESTING:\n",
            "Accuracy of the network on the 10000 test images: 65.65 %\n",
            "Average loss on the 10000 test images: 0.984\n",
            "[3,   100] loss: 1.026 acc: 64.43 time: 9.84\n",
            "[3,   200] loss: 1.030 acc: 63.99 time: 9.88\n",
            "[3,   300] loss: 1.016 acc: 64.52 time: 9.95\n",
            "TESTING:\n",
            "Accuracy of the network on the 10000 test images: 65.52 %\n",
            "Average loss on the 10000 test images: 0.981\n",
            "[4,   100] loss: 0.970 acc: 66.03 time: 9.03\n",
            "[4,   200] loss: 1.010 acc: 64.74 time: 10.07\n",
            "[4,   300] loss: 0.980 acc: 65.91 time: 10.75\n",
            "TESTING:\n",
            "Accuracy of the network on the 10000 test images: 66.96 %\n",
            "Average loss on the 10000 test images: 0.955\n",
            "[5,   100] loss: 0.971 acc: 65.73 time: 10.02\n",
            "[5,   200] loss: 0.955 acc: 66.32 time: 9.20\n",
            "[5,   300] loss: 0.959 acc: 66.59 time: 9.93\n",
            "TESTING:\n",
            "Accuracy of the network on the 10000 test images: 67.65 %\n",
            "Average loss on the 10000 test images: 0.922\n",
            "[6,   100] loss: 0.925 acc: 66.96 time: 9.97\n",
            "[6,   200] loss: 0.933 acc: 66.99 time: 9.98\n",
            "[6,   300] loss: 0.921 acc: 67.42 time: 9.18\n",
            "TESTING:\n",
            "Accuracy of the network on the 10000 test images: 67.97 %\n",
            "Average loss on the 10000 test images: 0.923\n",
            "[7,   100] loss: 0.896 acc: 68.59 time: 10.64\n",
            "[7,   200] loss: 0.912 acc: 67.48 time: 10.00\n",
            "[7,   300] loss: 0.914 acc: 67.61 time: 9.99\n",
            "TESTING:\n",
            "Accuracy of the network on the 10000 test images: 67.58 %\n",
            "Average loss on the 10000 test images: 0.934\n",
            "[8,   100] loss: 0.885 acc: 68.90 time: 9.40\n",
            "[8,   200] loss: 0.896 acc: 68.41 time: 9.85\n",
            "[8,   300] loss: 0.908 acc: 67.97 time: 9.91\n",
            "TESTING:\n",
            "Accuracy of the network on the 10000 test images: 69.59 %\n",
            "Average loss on the 10000 test images: 0.882\n",
            "[9,   100] loss: 0.870 acc: 68.92 time: 9.85\n",
            "[9,   200] loss: 0.898 acc: 68.52 time: 9.23\n",
            "[9,   300] loss: 0.891 acc: 68.50 time: 10.10\n",
            "TESTING:\n",
            "Accuracy of the network on the 10000 test images: 69.14 %\n",
            "Average loss on the 10000 test images: 0.891\n",
            "[10,   100] loss: 0.859 acc: 69.61 time: 9.99\n",
            "[10,   200] loss: 0.859 acc: 69.18 time: 9.94\n",
            "[10,   300] loss: 0.884 acc: 68.80 time: 9.42\n",
            "TESTING:\n",
            "Accuracy of the network on the 10000 test images: 68.66 %\n",
            "Average loss on the 10000 test images: 0.896\n",
            "[11,   100] loss: 0.810 acc: 71.36 time: 9.47\n",
            "[11,   200] loss: 0.796 acc: 72.03 time: 9.83\n",
            "[11,   300] loss: 0.796 acc: 71.56 time: 9.97\n",
            "TESTING:\n",
            "Accuracy of the network on the 10000 test images: 70.91 %\n",
            "Average loss on the 10000 test images: 0.839\n",
            "[12,   100] loss: 0.784 acc: 72.20 time: 9.50\n",
            "[12,   200] loss: 0.782 acc: 72.42 time: 9.63\n",
            "[12,   300] loss: 0.771 acc: 72.72 time: 10.75\n",
            "TESTING:\n",
            "Accuracy of the network on the 10000 test images: 70.96 %\n",
            "Average loss on the 10000 test images: 0.835\n",
            "[13,   100] loss: 0.767 acc: 72.30 time: 10.11\n",
            "[13,   200] loss: 0.774 acc: 72.01 time: 9.62\n",
            "[13,   300] loss: 0.779 acc: 72.47 time: 9.62\n",
            "TESTING:\n",
            "Accuracy of the network on the 10000 test images: 71.50 %\n",
            "Average loss on the 10000 test images: 0.824\n",
            "[14,   100] loss: 0.737 acc: 73.63 time: 9.84\n",
            "[14,   200] loss: 0.775 acc: 72.16 time: 10.11\n",
            "[14,   300] loss: 0.754 acc: 72.88 time: 9.53\n",
            "TESTING:\n",
            "Accuracy of the network on the 10000 test images: 71.59 %\n",
            "Average loss on the 10000 test images: 0.826\n",
            "[15,   100] loss: 0.764 acc: 72.93 time: 9.31\n",
            "[15,   200] loss: 0.753 acc: 73.77 time: 10.81\n",
            "[15,   300] loss: 0.759 acc: 73.05 time: 10.01\n",
            "TESTING:\n",
            "Accuracy of the network on the 10000 test images: 71.60 %\n",
            "Average loss on the 10000 test images: 0.825\n",
            "[16,   100] loss: 0.740 acc: 74.30 time: 10.05\n",
            "[16,   200] loss: 0.751 acc: 73.77 time: 9.18\n",
            "[16,   300] loss: 0.744 acc: 73.46 time: 9.89\n",
            "TESTING:\n",
            "Accuracy of the network on the 10000 test images: 71.76 %\n",
            "Average loss on the 10000 test images: 0.822\n",
            "[17,   100] loss: 0.737 acc: 73.72 time: 9.96\n",
            "[17,   200] loss: 0.735 acc: 74.30 time: 9.65\n",
            "[17,   300] loss: 0.736 acc: 73.87 time: 9.38\n",
            "TESTING:\n",
            "Accuracy of the network on the 10000 test images: 71.92 %\n",
            "Average loss on the 10000 test images: 0.823\n",
            "[18,   100] loss: 0.744 acc: 73.23 time: 10.73\n",
            "[18,   200] loss: 0.735 acc: 73.89 time: 9.93\n",
            "[18,   300] loss: 0.725 acc: 74.35 time: 9.52\n",
            "TESTING:\n",
            "Accuracy of the network on the 10000 test images: 71.86 %\n",
            "Average loss on the 10000 test images: 0.822\n",
            "[19,   100] loss: 0.710 acc: 74.45 time: 9.53\n",
            "[19,   200] loss: 0.747 acc: 73.02 time: 9.91\n",
            "[19,   300] loss: 0.734 acc: 74.02 time: 9.93\n",
            "TESTING:\n",
            "Accuracy of the network on the 10000 test images: 72.40 %\n",
            "Average loss on the 10000 test images: 0.804\n",
            "[20,   100] loss: 0.733 acc: 73.57 time: 9.42\n",
            "[20,   200] loss: 0.742 acc: 73.96 time: 9.63\n",
            "[20,   300] loss: 0.715 acc: 74.82 time: 10.01\n",
            "TESTING:\n",
            "Accuracy of the network on the 10000 test images: 72.17 %\n",
            "Average loss on the 10000 test images: 0.813\n",
            "Finished Training\n"
          ]
        }
      ],
      "source": [
        "train(net, criterion, optimizer, num_epochs=20, decay_epochs=10, init_lr=0.01, task='classification')"
      ]
    },
    {
      "cell_type": "markdown",
      "metadata": {
        "id": "ghPNhcJBrcNj"
      },
      "source": [
        "## Fine-tuning on the randomly initialized model\n",
        "In this section, we will randomly initialize a ResNet18 model and fine-tune on the classification task. We will freeze all previous layers except for the 'layer4' block and 'fc' layer."
      ]
    },
    {
      "cell_type": "code",
      "execution_count": 18,
      "metadata": {
        "id": "2RfXAh9vxXRB",
        "colab": {
          "base_uri": "https://localhost:8080/"
        },
        "outputId": "a8f29bfa-93c1-44c1-a5d7-a5e2d50a59f1"
      },
      "outputs": [
        {
          "output_type": "stream",
          "name": "stderr",
          "text": [
            "/usr/local/lib/python3.9/dist-packages/torchvision/models/_utils.py:223: UserWarning: Arguments other than a weight enum or `None` for 'weights' are deprecated since 0.13 and may be removed in the future. The current behavior is equivalent to passing `weights=None`.\n",
            "  warnings.warn(msg)\n"
          ]
        }
      ],
      "source": [
        "import torch.nn as nn\n",
        "import torch.nn.functional as F\n",
        "\n",
        "from torchvision.models import resnet18\n",
        "\n",
        "# TODO: Randomly initialize a ResNet18 model\n",
        "\n",
        "net = resnet18(pretrained = False)\n",
        "\n",
        "num_ftrs = net.fc.in_features\n",
        "net.fc = nn.Linear(num_ftrs, 10)\n",
        "\n",
        "net = net.to(device)"
      ]
    },
    {
      "cell_type": "code",
      "execution_count": 19,
      "metadata": {
        "id": "fpx-SYAizt4p"
      },
      "outputs": [],
      "source": [
        "# TODO: Freeze all previous layers; only keep the 'layer4' block and 'fc' layer trainable\n",
        "# To do this, you should set requires_grad=False for the frozen layers.\n",
        "for name, param in net.named_parameters():\n",
        "    if 'layer4' in name or 'fc' in name:\n",
        "        param.requires_grad = True\n",
        "    else:\n",
        "        param.requires_grad = False"
      ]
    },
    {
      "cell_type": "code",
      "execution_count": 20,
      "metadata": {
        "id": "BUFWizbHxgm2",
        "colab": {
          "base_uri": "https://localhost:8080/"
        },
        "outputId": "ccd4dacc-f314-45ab-a50f-68f714ffd2d3"
      },
      "outputs": [
        {
          "output_type": "stream",
          "name": "stdout",
          "text": [
            "Params to learn:\n",
            "\t layer4.0.conv1.weight\n",
            "\t layer4.0.bn1.weight\n",
            "\t layer4.0.bn1.bias\n",
            "\t layer4.0.conv2.weight\n",
            "\t layer4.0.bn2.weight\n",
            "\t layer4.0.bn2.bias\n",
            "\t layer4.0.downsample.0.weight\n",
            "\t layer4.0.downsample.1.weight\n",
            "\t layer4.0.downsample.1.bias\n",
            "\t layer4.1.conv1.weight\n",
            "\t layer4.1.bn1.weight\n",
            "\t layer4.1.bn1.bias\n",
            "\t layer4.1.conv2.weight\n",
            "\t layer4.1.bn2.weight\n",
            "\t layer4.1.bn2.bias\n",
            "\t fc.weight\n",
            "\t fc.bias\n"
          ]
        }
      ],
      "source": [
        "# Print all the trainable parameters\n",
        "params_to_update = net.parameters()\n",
        "print(\"Params to learn:\")\n",
        "params_to_update = []\n",
        "for name,param in net.named_parameters():\n",
        "    if param.requires_grad == True:\n",
        "        params_to_update.append(param)\n",
        "        print(\"\\t\",name)"
      ]
    },
    {
      "cell_type": "code",
      "execution_count": 21,
      "metadata": {
        "id": "BxFrGj091AN_"
      },
      "outputs": [],
      "source": [
        "# TODO: Define criterion and optimizer\n",
        "# Note that your optimizer only needs to update the parameters that are trainable.\n",
        "criterion = nn.CrossEntropyLoss()\n",
        "optimizer = optim.Adam(filter(lambda p: p.requires_grad, net.parameters()))"
      ]
    },
    {
      "cell_type": "code",
      "execution_count": 22,
      "metadata": {
        "id": "GzRVy0MZxpoL",
        "colab": {
          "base_uri": "https://localhost:8080/"
        },
        "outputId": "c209cf29-9e4e-4cfa-ab4b-b40621e826ad"
      },
      "outputs": [
        {
          "output_type": "stream",
          "name": "stdout",
          "text": [
            "[1,   100] loss: 2.217 acc: 25.45 time: 10.09\n",
            "[1,   200] loss: 1.951 acc: 30.14 time: 10.07\n",
            "[1,   300] loss: 1.873 acc: 32.41 time: 9.63\n",
            "TESTING:\n",
            "Accuracy of the network on the 10000 test images: 36.49 %\n",
            "Average loss on the 10000 test images: 1.743\n",
            "[2,   100] loss: 1.818 acc: 34.56 time: 9.24\n",
            "[2,   200] loss: 1.794 acc: 35.08 time: 9.92\n",
            "[2,   300] loss: 1.787 acc: 35.27 time: 10.17\n",
            "TESTING:\n",
            "Accuracy of the network on the 10000 test images: 39.95 %\n",
            "Average loss on the 10000 test images: 1.676\n",
            "[3,   100] loss: 1.754 acc: 36.38 time: 9.88\n",
            "[3,   200] loss: 1.738 acc: 37.16 time: 10.18\n",
            "[3,   300] loss: 1.740 acc: 37.81 time: 9.87\n",
            "TESTING:\n",
            "Accuracy of the network on the 10000 test images: 39.99 %\n",
            "Average loss on the 10000 test images: 1.665\n",
            "[4,   100] loss: 1.736 acc: 37.31 time: 10.03\n",
            "[4,   200] loss: 1.717 acc: 38.05 time: 9.75\n",
            "[4,   300] loss: 1.723 acc: 37.53 time: 9.34\n",
            "TESTING:\n",
            "Accuracy of the network on the 10000 test images: 40.20 %\n",
            "Average loss on the 10000 test images: 1.656\n",
            "[5,   100] loss: 1.714 acc: 38.45 time: 9.75\n",
            "[5,   200] loss: 1.696 acc: 38.74 time: 10.09\n",
            "[5,   300] loss: 1.702 acc: 38.65 time: 9.62\n",
            "TESTING:\n",
            "Accuracy of the network on the 10000 test images: 41.93 %\n",
            "Average loss on the 10000 test images: 1.629\n",
            "[6,   100] loss: 1.679 acc: 39.31 time: 10.10\n",
            "[6,   200] loss: 1.704 acc: 38.66 time: 9.85\n",
            "[6,   300] loss: 1.673 acc: 39.46 time: 9.98\n",
            "TESTING:\n",
            "Accuracy of the network on the 10000 test images: 42.91 %\n",
            "Average loss on the 10000 test images: 1.595\n",
            "[7,   100] loss: 1.675 acc: 39.76 time: 9.97\n",
            "[7,   200] loss: 1.659 acc: 40.39 time: 9.28\n",
            "[7,   300] loss: 1.684 acc: 39.63 time: 10.02\n",
            "TESTING:\n",
            "Accuracy of the network on the 10000 test images: 41.49 %\n",
            "Average loss on the 10000 test images: 1.632\n",
            "[8,   100] loss: 1.661 acc: 39.93 time: 10.09\n",
            "[8,   200] loss: 1.655 acc: 40.41 time: 9.79\n",
            "[8,   300] loss: 1.650 acc: 40.95 time: 9.29\n",
            "TESTING:\n",
            "Accuracy of the network on the 10000 test images: 41.89 %\n",
            "Average loss on the 10000 test images: 1.619\n",
            "[9,   100] loss: 1.649 acc: 40.43 time: 9.92\n",
            "[9,   200] loss: 1.648 acc: 40.54 time: 10.06\n",
            "[9,   300] loss: 1.658 acc: 40.42 time: 9.59\n",
            "TESTING:\n",
            "Accuracy of the network on the 10000 test images: 42.74 %\n",
            "Average loss on the 10000 test images: 1.597\n",
            "[10,   100] loss: 1.640 acc: 41.14 time: 9.38\n",
            "[10,   200] loss: 1.641 acc: 40.92 time: 10.05\n",
            "[10,   300] loss: 1.647 acc: 40.77 time: 9.93\n",
            "TESTING:\n",
            "Accuracy of the network on the 10000 test images: 42.52 %\n",
            "Average loss on the 10000 test images: 1.595\n",
            "[11,   100] loss: 1.623 acc: 41.83 time: 9.82\n",
            "[11,   200] loss: 1.594 acc: 42.87 time: 9.66\n",
            "[11,   300] loss: 1.595 acc: 42.12 time: 10.81\n",
            "TESTING:\n",
            "Accuracy of the network on the 10000 test images: 44.37 %\n",
            "Average loss on the 10000 test images: 1.549\n",
            "[12,   100] loss: 1.609 acc: 41.89 time: 9.97\n",
            "[12,   200] loss: 1.579 acc: 43.03 time: 9.73\n",
            "[12,   300] loss: 1.582 acc: 43.50 time: 9.22\n",
            "TESTING:\n",
            "Accuracy of the network on the 10000 test images: 44.84 %\n",
            "Average loss on the 10000 test images: 1.539\n",
            "[13,   100] loss: 1.574 acc: 43.38 time: 10.09\n",
            "[13,   200] loss: 1.574 acc: 43.60 time: 10.08\n",
            "[13,   300] loss: 1.564 acc: 44.30 time: 9.77\n",
            "TESTING:\n",
            "Accuracy of the network on the 10000 test images: 45.49 %\n",
            "Average loss on the 10000 test images: 1.533\n",
            "[14,   100] loss: 1.564 acc: 44.00 time: 10.23\n",
            "[14,   200] loss: 1.571 acc: 43.93 time: 10.06\n",
            "[14,   300] loss: 1.557 acc: 44.14 time: 9.94\n",
            "TESTING:\n",
            "Accuracy of the network on the 10000 test images: 45.23 %\n",
            "Average loss on the 10000 test images: 1.533\n",
            "[15,   100] loss: 1.571 acc: 44.10 time: 10.02\n",
            "[15,   200] loss: 1.554 acc: 44.26 time: 9.25\n",
            "[15,   300] loss: 1.557 acc: 44.51 time: 10.10\n",
            "TESTING:\n",
            "Accuracy of the network on the 10000 test images: 45.80 %\n",
            "Average loss on the 10000 test images: 1.519\n",
            "[16,   100] loss: 1.562 acc: 44.45 time: 9.90\n",
            "[16,   200] loss: 1.559 acc: 44.02 time: 10.04\n",
            "[16,   300] loss: 1.551 acc: 44.05 time: 9.27\n",
            "TESTING:\n",
            "Accuracy of the network on the 10000 test images: 45.85 %\n",
            "Average loss on the 10000 test images: 1.516\n",
            "[17,   100] loss: 1.564 acc: 44.20 time: 9.85\n",
            "[17,   200] loss: 1.548 acc: 44.83 time: 10.01\n",
            "[17,   300] loss: 1.564 acc: 44.02 time: 9.97\n",
            "TESTING:\n",
            "Accuracy of the network on the 10000 test images: 46.57 %\n",
            "Average loss on the 10000 test images: 1.510\n",
            "[18,   100] loss: 1.547 acc: 44.46 time: 9.48\n",
            "[18,   200] loss: 1.540 acc: 44.37 time: 9.73\n",
            "[18,   300] loss: 1.544 acc: 45.35 time: 9.95\n",
            "TESTING:\n",
            "Accuracy of the network on the 10000 test images: 46.17 %\n",
            "Average loss on the 10000 test images: 1.509\n",
            "[19,   100] loss: 1.548 acc: 44.21 time: 9.95\n",
            "[19,   200] loss: 1.554 acc: 44.12 time: 9.12\n",
            "[19,   300] loss: 1.522 acc: 45.20 time: 10.89\n",
            "TESTING:\n",
            "Accuracy of the network on the 10000 test images: 45.95 %\n",
            "Average loss on the 10000 test images: 1.513\n",
            "[20,   100] loss: 1.536 acc: 45.09 time: 9.89\n",
            "[20,   200] loss: 1.536 acc: 44.81 time: 10.07\n",
            "[20,   300] loss: 1.544 acc: 44.66 time: 9.24\n",
            "TESTING:\n",
            "Accuracy of the network on the 10000 test images: 46.14 %\n",
            "Average loss on the 10000 test images: 1.511\n",
            "Finished Training\n"
          ]
        }
      ],
      "source": [
        "train(net, criterion, optimizer, num_epochs=20, decay_epochs=10, init_lr=0.01, task='classification')"
      ]
    },
    {
      "cell_type": "markdown",
      "metadata": {
        "id": "WcN54tcNN15U"
      },
      "source": [
        "##Supervised training on the pre-trained model\n",
        "In this section, we will load the pre-trained ResNet18 model and re-train the whole model on the classification task."
      ]
    },
    {
      "cell_type": "code",
      "execution_count": 26,
      "metadata": {
        "id": "9xR9h_S1N6Xi"
      },
      "outputs": [],
      "source": [
        "import torch.nn as nn\n",
        "import torch.nn.functional as F\n",
        "\n",
        "from torchvision.models import resnet18\n",
        "\n",
        "# TODO: Load the pre-trained ResNet18 model\n",
        "net = resnet18(pretrained = True)\n",
        "\n",
        "num_ftrs = net.fc.in_features\n",
        "net.fc = nn.Linear(num_ftrs, 10)\n",
        "\n",
        "net = net.to(device)"
      ]
    },
    {
      "cell_type": "code",
      "execution_count": 27,
      "metadata": {
        "id": "gGozc2cM0ADw"
      },
      "outputs": [],
      "source": [
        "# TODO: Define criterion and optimizer\n",
        "criterion = torch.nn.CrossEntropyLoss()\n",
        "optimizer = torch.optim.Adam(net.parameters())"
      ]
    },
    {
      "cell_type": "code",
      "execution_count": 28,
      "metadata": {
        "id": "JGWW7gzCz_Bu",
        "colab": {
          "base_uri": "https://localhost:8080/"
        },
        "outputId": "9cdebc63-0d03-4a03-c9d4-a836e102d60e"
      },
      "outputs": [
        {
          "output_type": "stream",
          "name": "stdout",
          "text": [
            "[1,   100] loss: 2.498 acc: 14.61 time: 11.77\n",
            "[1,   200] loss: 2.149 acc: 22.43 time: 13.10\n",
            "[1,   300] loss: 2.039 acc: 27.37 time: 11.72\n",
            "TESTING:\n",
            "Accuracy of the network on the 10000 test images: 31.61 %\n",
            "Average loss on the 10000 test images: 2.071\n",
            "[2,   100] loss: 1.985 acc: 31.45 time: 11.68\n",
            "[2,   200] loss: 1.745 acc: 35.20 time: 13.50\n",
            "[2,   300] loss: 1.601 acc: 41.02 time: 11.71\n",
            "TESTING:\n",
            "Accuracy of the network on the 10000 test images: 44.34 %\n",
            "Average loss on the 10000 test images: 1.507\n",
            "[3,   100] loss: 1.455 acc: 46.20 time: 11.68\n",
            "[3,   200] loss: 1.415 acc: 47.99 time: 11.68\n",
            "[3,   300] loss: 1.381 acc: 49.33 time: 12.37\n",
            "TESTING:\n",
            "Accuracy of the network on the 10000 test images: 55.45 %\n",
            "Average loss on the 10000 test images: 1.258\n",
            "[4,   100] loss: 1.261 acc: 54.50 time: 11.90\n",
            "[4,   200] loss: 1.233 acc: 55.71 time: 11.77\n",
            "[4,   300] loss: 1.177 acc: 57.82 time: 11.20\n",
            "TESTING:\n",
            "Accuracy of the network on the 10000 test images: 62.91 %\n",
            "Average loss on the 10000 test images: 1.043\n",
            "[5,   100] loss: 1.129 acc: 59.45 time: 11.40\n",
            "[5,   200] loss: 1.099 acc: 61.02 time: 12.27\n",
            "[5,   300] loss: 1.066 acc: 61.84 time: 11.60\n",
            "TESTING:\n",
            "Accuracy of the network on the 10000 test images: 62.90 %\n",
            "Average loss on the 10000 test images: 1.060\n",
            "[6,   100] loss: 1.034 acc: 63.53 time: 11.58\n",
            "[6,   200] loss: 1.012 acc: 64.48 time: 11.76\n",
            "[6,   300] loss: 0.993 acc: 64.69 time: 11.84\n",
            "TESTING:\n",
            "Accuracy of the network on the 10000 test images: 65.46 %\n",
            "Average loss on the 10000 test images: 0.987\n",
            "[7,   100] loss: 0.957 acc: 65.95 time: 11.62\n",
            "[7,   200] loss: 0.958 acc: 66.50 time: 11.92\n",
            "[7,   300] loss: 0.923 acc: 67.35 time: 11.62\n",
            "TESTING:\n",
            "Accuracy of the network on the 10000 test images: 64.14 %\n",
            "Average loss on the 10000 test images: 1.051\n",
            "[8,   100] loss: 0.915 acc: 67.77 time: 11.68\n",
            "[8,   200] loss: 0.876 acc: 69.35 time: 12.52\n",
            "[8,   300] loss: 0.882 acc: 68.82 time: 11.79\n",
            "TESTING:\n",
            "Accuracy of the network on the 10000 test images: 69.94 %\n",
            "Average loss on the 10000 test images: 0.875\n",
            "[9,   100] loss: 0.849 acc: 69.74 time: 11.76\n",
            "[9,   200] loss: 0.849 acc: 70.39 time: 11.64\n",
            "[9,   300] loss: 0.862 acc: 69.52 time: 11.31\n",
            "TESTING:\n",
            "Accuracy of the network on the 10000 test images: 69.45 %\n",
            "Average loss on the 10000 test images: 0.891\n",
            "[10,   100] loss: 0.813 acc: 71.24 time: 11.45\n",
            "[10,   200] loss: 0.815 acc: 71.49 time: 11.19\n",
            "[10,   300] loss: 0.806 acc: 72.23 time: 11.96\n",
            "TESTING:\n",
            "Accuracy of the network on the 10000 test images: 71.76 %\n",
            "Average loss on the 10000 test images: 0.831\n",
            "[11,   100] loss: 0.722 acc: 75.34 time: 11.41\n",
            "[11,   200] loss: 0.695 acc: 75.91 time: 11.89\n",
            "[11,   300] loss: 0.668 acc: 76.53 time: 11.66\n",
            "TESTING:\n",
            "Accuracy of the network on the 10000 test images: 77.23 %\n",
            "Average loss on the 10000 test images: 0.660\n",
            "[12,   100] loss: 0.653 acc: 77.09 time: 11.85\n",
            "[12,   200] loss: 0.674 acc: 76.43 time: 11.62\n",
            "[12,   300] loss: 0.645 acc: 77.91 time: 11.66\n",
            "TESTING:\n",
            "Accuracy of the network on the 10000 test images: 77.58 %\n",
            "Average loss on the 10000 test images: 0.652\n",
            "[13,   100] loss: 0.636 acc: 77.55 time: 12.59\n",
            "[13,   200] loss: 0.632 acc: 77.82 time: 11.74\n",
            "[13,   300] loss: 0.636 acc: 77.88 time: 11.68\n",
            "TESTING:\n",
            "Accuracy of the network on the 10000 test images: 78.21 %\n",
            "Average loss on the 10000 test images: 0.641\n",
            "[14,   100] loss: 0.629 acc: 78.02 time: 11.52\n",
            "[14,   200] loss: 0.618 acc: 78.31 time: 11.77\n",
            "[14,   300] loss: 0.618 acc: 78.18 time: 11.52\n",
            "TESTING:\n",
            "Accuracy of the network on the 10000 test images: 78.37 %\n",
            "Average loss on the 10000 test images: 0.632\n",
            "[15,   100] loss: 0.618 acc: 78.56 time: 11.55\n",
            "[15,   200] loss: 0.604 acc: 78.99 time: 11.82\n",
            "[15,   300] loss: 0.620 acc: 78.68 time: 11.99\n",
            "TESTING:\n",
            "Accuracy of the network on the 10000 test images: 78.48 %\n",
            "Average loss on the 10000 test images: 0.627\n",
            "[16,   100] loss: 0.599 acc: 79.14 time: 11.40\n",
            "[16,   200] loss: 0.588 acc: 79.46 time: 11.67\n",
            "[16,   300] loss: 0.611 acc: 78.55 time: 11.69\n",
            "TESTING:\n",
            "Accuracy of the network on the 10000 test images: 78.96 %\n",
            "Average loss on the 10000 test images: 0.621\n",
            "[17,   100] loss: 0.593 acc: 79.68 time: 11.65\n",
            "[17,   200] loss: 0.582 acc: 79.45 time: 11.76\n",
            "[17,   300] loss: 0.582 acc: 79.89 time: 11.67\n",
            "TESTING:\n",
            "Accuracy of the network on the 10000 test images: 78.97 %\n",
            "Average loss on the 10000 test images: 0.616\n",
            "[18,   100] loss: 0.581 acc: 79.49 time: 11.70\n",
            "[18,   200] loss: 0.570 acc: 79.83 time: 11.70\n",
            "[18,   300] loss: 0.583 acc: 79.87 time: 11.82\n",
            "TESTING:\n",
            "Accuracy of the network on the 10000 test images: 79.11 %\n",
            "Average loss on the 10000 test images: 0.615\n",
            "[19,   100] loss: 0.579 acc: 79.46 time: 11.84\n",
            "[19,   200] loss: 0.571 acc: 79.94 time: 11.57\n",
            "[19,   300] loss: 0.565 acc: 80.09 time: 11.18\n",
            "TESTING:\n",
            "Accuracy of the network on the 10000 test images: 79.52 %\n",
            "Average loss on the 10000 test images: 0.596\n",
            "[20,   100] loss: 0.563 acc: 80.30 time: 12.28\n",
            "[20,   200] loss: 0.558 acc: 80.29 time: 11.66\n",
            "[20,   300] loss: 0.551 acc: 80.59 time: 11.68\n",
            "TESTING:\n",
            "Accuracy of the network on the 10000 test images: 79.17 %\n",
            "Average loss on the 10000 test images: 0.600\n",
            "Finished Training\n"
          ]
        }
      ],
      "source": [
        "train(net, criterion, optimizer, num_epochs=20, decay_epochs=10, init_lr=0.01, task='classification')"
      ]
    },
    {
      "cell_type": "markdown",
      "metadata": {
        "id": "xjVTp9jhefTi"
      },
      "source": [
        "##Supervised training on the randomly initialized model\n",
        "In this section, we will randomly initialize a ResNet18 model and re-train the whole model on the classification task."
      ]
    },
    {
      "cell_type": "code",
      "execution_count": 29,
      "metadata": {
        "id": "uEjy8TBieeLK"
      },
      "outputs": [],
      "source": [
        "import torch.nn as nn\n",
        "import torch.nn.functional as F\n",
        "\n",
        "from torchvision.models import resnet18\n",
        "\n",
        "# TODO: Randomly initialize a ResNet18 model\n",
        "net = resnet18(num_classes = 10)\n",
        "net = net.to(device)"
      ]
    },
    {
      "cell_type": "code",
      "execution_count": 30,
      "metadata": {
        "id": "jEY90pK_0ZAm"
      },
      "outputs": [],
      "source": [
        "# TODO: Define criterion and optimizer\n",
        "criterion = torch.nn.CrossEntropyLoss()\n",
        "optimizer = torch.optim.Adam(net.parameters())"
      ]
    },
    {
      "cell_type": "code",
      "execution_count": 31,
      "metadata": {
        "id": "lMDwelhY0auO",
        "colab": {
          "base_uri": "https://localhost:8080/"
        },
        "outputId": "66961dc7-422b-4e03-dba8-1e0069b56ec2"
      },
      "outputs": [
        {
          "output_type": "stream",
          "name": "stdout",
          "text": [
            "[1,   100] loss: 2.147 acc: 23.93 time: 11.70\n",
            "[1,   200] loss: 1.861 acc: 32.23 time: 11.82\n",
            "[1,   300] loss: 1.703 acc: 38.28 time: 11.60\n",
            "TESTING:\n",
            "Accuracy of the network on the 10000 test images: 41.15 %\n",
            "Average loss on the 10000 test images: 1.576\n",
            "[2,   100] loss: 1.521 acc: 44.14 time: 11.73\n",
            "[2,   200] loss: 1.470 acc: 45.85 time: 12.27\n",
            "[2,   300] loss: 1.394 acc: 49.21 time: 12.34\n",
            "TESTING:\n",
            "Accuracy of the network on the 10000 test images: 53.41 %\n",
            "Average loss on the 10000 test images: 1.298\n",
            "[3,   100] loss: 1.267 acc: 54.17 time: 11.89\n",
            "[3,   200] loss: 1.215 acc: 56.23 time: 11.69\n",
            "[3,   300] loss: 1.189 acc: 57.33 time: 11.59\n",
            "TESTING:\n",
            "Accuracy of the network on the 10000 test images: 59.15 %\n",
            "Average loss on the 10000 test images: 1.170\n",
            "[4,   100] loss: 1.109 acc: 60.55 time: 11.68\n",
            "[4,   200] loss: 1.075 acc: 62.05 time: 11.31\n",
            "[4,   300] loss: 1.040 acc: 62.76 time: 11.23\n",
            "TESTING:\n",
            "Accuracy of the network on the 10000 test images: 62.00 %\n",
            "Average loss on the 10000 test images: 1.181\n",
            "[5,   100] loss: 1.004 acc: 64.34 time: 11.30\n",
            "[5,   200] loss: 0.955 acc: 66.09 time: 11.48\n",
            "[5,   300] loss: 0.938 acc: 67.23 time: 11.79\n",
            "TESTING:\n",
            "Accuracy of the network on the 10000 test images: 68.65 %\n",
            "Average loss on the 10000 test images: 0.877\n",
            "[6,   100] loss: 0.923 acc: 67.55 time: 11.60\n",
            "[6,   200] loss: 0.886 acc: 68.81 time: 11.75\n",
            "[6,   300] loss: 0.868 acc: 69.52 time: 11.75\n",
            "TESTING:\n",
            "Accuracy of the network on the 10000 test images: 72.07 %\n",
            "Average loss on the 10000 test images: 0.821\n",
            "[7,   100] loss: 0.820 acc: 71.87 time: 11.76\n",
            "[7,   200] loss: 0.839 acc: 70.80 time: 12.67\n",
            "[7,   300] loss: 0.817 acc: 71.77 time: 11.74\n",
            "TESTING:\n",
            "Accuracy of the network on the 10000 test images: 69.32 %\n",
            "Average loss on the 10000 test images: 0.897\n",
            "[8,   100] loss: 0.773 acc: 72.91 time: 11.87\n",
            "[8,   200] loss: 0.778 acc: 73.27 time: 11.88\n",
            "[8,   300] loss: 0.763 acc: 73.19 time: 11.77\n",
            "TESTING:\n",
            "Accuracy of the network on the 10000 test images: 73.54 %\n",
            "Average loss on the 10000 test images: 0.774\n",
            "[9,   100] loss: 0.734 acc: 74.26 time: 11.74\n",
            "[9,   200] loss: 0.729 acc: 74.68 time: 11.76\n",
            "[9,   300] loss: 0.729 acc: 74.64 time: 11.51\n",
            "TESTING:\n",
            "Accuracy of the network on the 10000 test images: 74.40 %\n",
            "Average loss on the 10000 test images: 0.750\n",
            "[10,   100] loss: 0.691 acc: 76.27 time: 11.37\n",
            "[10,   200] loss: 0.699 acc: 75.69 time: 11.46\n",
            "[10,   300] loss: 0.682 acc: 76.28 time: 11.67\n",
            "TESTING:\n",
            "Accuracy of the network on the 10000 test images: 76.00 %\n",
            "Average loss on the 10000 test images: 0.707\n",
            "[11,   100] loss: 0.608 acc: 78.59 time: 11.76\n",
            "[11,   200] loss: 0.564 acc: 80.30 time: 11.80\n",
            "[11,   300] loss: 0.557 acc: 80.35 time: 11.65\n",
            "TESTING:\n",
            "Accuracy of the network on the 10000 test images: 80.57 %\n",
            "Average loss on the 10000 test images: 0.565\n",
            "[12,   100] loss: 0.534 acc: 81.38 time: 13.03\n",
            "[12,   200] loss: 0.509 acc: 82.23 time: 11.91\n",
            "[12,   300] loss: 0.529 acc: 81.70 time: 11.63\n",
            "TESTING:\n",
            "Accuracy of the network on the 10000 test images: 81.07 %\n",
            "Average loss on the 10000 test images: 0.553\n",
            "[13,   100] loss: 0.496 acc: 82.50 time: 11.78\n",
            "[13,   200] loss: 0.509 acc: 82.15 time: 11.84\n",
            "[13,   300] loss: 0.498 acc: 82.85 time: 11.81\n",
            "TESTING:\n",
            "Accuracy of the network on the 10000 test images: 81.38 %\n",
            "Average loss on the 10000 test images: 0.547\n",
            "[14,   100] loss: 0.489 acc: 82.95 time: 11.71\n",
            "[14,   200] loss: 0.503 acc: 82.78 time: 11.43\n",
            "[14,   300] loss: 0.482 acc: 83.51 time: 12.45\n",
            "TESTING:\n",
            "Accuracy of the network on the 10000 test images: 81.20 %\n",
            "Average loss on the 10000 test images: 0.546\n",
            "[15,   100] loss: 0.473 acc: 83.95 time: 11.23\n",
            "[15,   200] loss: 0.487 acc: 82.89 time: 11.37\n",
            "[15,   300] loss: 0.476 acc: 83.10 time: 11.73\n",
            "TESTING:\n",
            "Accuracy of the network on the 10000 test images: 81.81 %\n",
            "Average loss on the 10000 test images: 0.535\n",
            "[16,   100] loss: 0.472 acc: 83.59 time: 11.59\n",
            "[16,   200] loss: 0.466 acc: 83.40 time: 11.69\n",
            "[16,   300] loss: 0.473 acc: 83.53 time: 11.83\n",
            "TESTING:\n",
            "Accuracy of the network on the 10000 test images: 81.85 %\n",
            "Average loss on the 10000 test images: 0.532\n",
            "[17,   100] loss: 0.461 acc: 83.70 time: 11.66\n",
            "[17,   200] loss: 0.461 acc: 83.45 time: 11.71\n",
            "[17,   300] loss: 0.449 acc: 84.44 time: 11.84\n",
            "TESTING:\n",
            "Accuracy of the network on the 10000 test images: 82.22 %\n",
            "Average loss on the 10000 test images: 0.532\n",
            "[18,   100] loss: 0.450 acc: 84.29 time: 11.79\n",
            "[18,   200] loss: 0.442 acc: 84.62 time: 11.59\n",
            "[18,   300] loss: 0.457 acc: 83.75 time: 11.61\n",
            "TESTING:\n",
            "Accuracy of the network on the 10000 test images: 82.44 %\n",
            "Average loss on the 10000 test images: 0.519\n",
            "[19,   100] loss: 0.434 acc: 84.79 time: 11.64\n",
            "[19,   200] loss: 0.451 acc: 84.09 time: 12.60\n",
            "[19,   300] loss: 0.430 acc: 84.75 time: 11.86\n",
            "TESTING:\n",
            "Accuracy of the network on the 10000 test images: 82.30 %\n",
            "Average loss on the 10000 test images: 0.523\n",
            "[20,   100] loss: 0.424 acc: 84.84 time: 11.86\n",
            "[20,   200] loss: 0.430 acc: 84.77 time: 11.67\n",
            "[20,   300] loss: 0.442 acc: 84.79 time: 11.60\n",
            "TESTING:\n",
            "Accuracy of the network on the 10000 test images: 82.61 %\n",
            "Average loss on the 10000 test images: 0.523\n",
            "Finished Training\n"
          ]
        }
      ],
      "source": [
        "train(net, criterion, optimizer, num_epochs=20, decay_epochs=10, init_lr=0.01, task='classification')"
      ]
    }
  ],
  "metadata": {
    "accelerator": "GPU",
    "colab": {
      "provenance": []
    },
    "gpuClass": "standard",
    "kernelspec": {
      "display_name": "Python 3",
      "name": "python3"
    },
    "language_info": {
      "codemirror_mode": {
        "name": "ipython",
        "version": 3
      },
      "file_extension": ".py",
      "mimetype": "text/x-python",
      "name": "python",
      "nbconvert_exporter": "python",
      "pygments_lexer": "ipython3",
      "version": "3.10.10"
    },
    "widgets": {
      "application/vnd.jupyter.widget-state+json": {
        "ce2b7e63f7e04c4097a61081fffaa2bb": {
          "model_module": "@jupyter-widgets/controls",
          "model_name": "HBoxModel",
          "model_module_version": "1.5.0",
          "state": {
            "_dom_classes": [],
            "_model_module": "@jupyter-widgets/controls",
            "_model_module_version": "1.5.0",
            "_model_name": "HBoxModel",
            "_view_count": null,
            "_view_module": "@jupyter-widgets/controls",
            "_view_module_version": "1.5.0",
            "_view_name": "HBoxView",
            "box_style": "",
            "children": [
              "IPY_MODEL_95ece78a7d804778b19b98aeb2d14e6a",
              "IPY_MODEL_a8543b1da442496b891d654455845d8a",
              "IPY_MODEL_501318ddac5343429bffdbc66d99dacf"
            ],
            "layout": "IPY_MODEL_1da7f5d8310048df95576fa3f8823e2e"
          }
        },
        "95ece78a7d804778b19b98aeb2d14e6a": {
          "model_module": "@jupyter-widgets/controls",
          "model_name": "HTMLModel",
          "model_module_version": "1.5.0",
          "state": {
            "_dom_classes": [],
            "_model_module": "@jupyter-widgets/controls",
            "_model_module_version": "1.5.0",
            "_model_name": "HTMLModel",
            "_view_count": null,
            "_view_module": "@jupyter-widgets/controls",
            "_view_module_version": "1.5.0",
            "_view_name": "HTMLView",
            "description": "",
            "description_tooltip": null,
            "layout": "IPY_MODEL_bceb4af1cb7d4ee286ac52a2fa8b4ae6",
            "placeholder": "​",
            "style": "IPY_MODEL_b61efe93f64446dfbeca6ccd0b86896e",
            "value": "100%"
          }
        },
        "a8543b1da442496b891d654455845d8a": {
          "model_module": "@jupyter-widgets/controls",
          "model_name": "FloatProgressModel",
          "model_module_version": "1.5.0",
          "state": {
            "_dom_classes": [],
            "_model_module": "@jupyter-widgets/controls",
            "_model_module_version": "1.5.0",
            "_model_name": "FloatProgressModel",
            "_view_count": null,
            "_view_module": "@jupyter-widgets/controls",
            "_view_module_version": "1.5.0",
            "_view_name": "ProgressView",
            "bar_style": "success",
            "description": "",
            "description_tooltip": null,
            "layout": "IPY_MODEL_f541bd764b794cb0bf11e38a2e2ec41f",
            "max": 46830571,
            "min": 0,
            "orientation": "horizontal",
            "style": "IPY_MODEL_17bd95f5eea84843a8a34dd62dcd6f8d",
            "value": 46830571
          }
        },
        "501318ddac5343429bffdbc66d99dacf": {
          "model_module": "@jupyter-widgets/controls",
          "model_name": "HTMLModel",
          "model_module_version": "1.5.0",
          "state": {
            "_dom_classes": [],
            "_model_module": "@jupyter-widgets/controls",
            "_model_module_version": "1.5.0",
            "_model_name": "HTMLModel",
            "_view_count": null,
            "_view_module": "@jupyter-widgets/controls",
            "_view_module_version": "1.5.0",
            "_view_name": "HTMLView",
            "description": "",
            "description_tooltip": null,
            "layout": "IPY_MODEL_d70071bdb4a44245a61ef1c1f87513c3",
            "placeholder": "​",
            "style": "IPY_MODEL_3d80e5af679044349a7485287e48b8be",
            "value": " 44.7M/44.7M [00:00&lt;00:00, 217MB/s]"
          }
        },
        "1da7f5d8310048df95576fa3f8823e2e": {
          "model_module": "@jupyter-widgets/base",
          "model_name": "LayoutModel",
          "model_module_version": "1.2.0",
          "state": {
            "_model_module": "@jupyter-widgets/base",
            "_model_module_version": "1.2.0",
            "_model_name": "LayoutModel",
            "_view_count": null,
            "_view_module": "@jupyter-widgets/base",
            "_view_module_version": "1.2.0",
            "_view_name": "LayoutView",
            "align_content": null,
            "align_items": null,
            "align_self": null,
            "border": null,
            "bottom": null,
            "display": null,
            "flex": null,
            "flex_flow": null,
            "grid_area": null,
            "grid_auto_columns": null,
            "grid_auto_flow": null,
            "grid_auto_rows": null,
            "grid_column": null,
            "grid_gap": null,
            "grid_row": null,
            "grid_template_areas": null,
            "grid_template_columns": null,
            "grid_template_rows": null,
            "height": null,
            "justify_content": null,
            "justify_items": null,
            "left": null,
            "margin": null,
            "max_height": null,
            "max_width": null,
            "min_height": null,
            "min_width": null,
            "object_fit": null,
            "object_position": null,
            "order": null,
            "overflow": null,
            "overflow_x": null,
            "overflow_y": null,
            "padding": null,
            "right": null,
            "top": null,
            "visibility": null,
            "width": null
          }
        },
        "bceb4af1cb7d4ee286ac52a2fa8b4ae6": {
          "model_module": "@jupyter-widgets/base",
          "model_name": "LayoutModel",
          "model_module_version": "1.2.0",
          "state": {
            "_model_module": "@jupyter-widgets/base",
            "_model_module_version": "1.2.0",
            "_model_name": "LayoutModel",
            "_view_count": null,
            "_view_module": "@jupyter-widgets/base",
            "_view_module_version": "1.2.0",
            "_view_name": "LayoutView",
            "align_content": null,
            "align_items": null,
            "align_self": null,
            "border": null,
            "bottom": null,
            "display": null,
            "flex": null,
            "flex_flow": null,
            "grid_area": null,
            "grid_auto_columns": null,
            "grid_auto_flow": null,
            "grid_auto_rows": null,
            "grid_column": null,
            "grid_gap": null,
            "grid_row": null,
            "grid_template_areas": null,
            "grid_template_columns": null,
            "grid_template_rows": null,
            "height": null,
            "justify_content": null,
            "justify_items": null,
            "left": null,
            "margin": null,
            "max_height": null,
            "max_width": null,
            "min_height": null,
            "min_width": null,
            "object_fit": null,
            "object_position": null,
            "order": null,
            "overflow": null,
            "overflow_x": null,
            "overflow_y": null,
            "padding": null,
            "right": null,
            "top": null,
            "visibility": null,
            "width": null
          }
        },
        "b61efe93f64446dfbeca6ccd0b86896e": {
          "model_module": "@jupyter-widgets/controls",
          "model_name": "DescriptionStyleModel",
          "model_module_version": "1.5.0",
          "state": {
            "_model_module": "@jupyter-widgets/controls",
            "_model_module_version": "1.5.0",
            "_model_name": "DescriptionStyleModel",
            "_view_count": null,
            "_view_module": "@jupyter-widgets/base",
            "_view_module_version": "1.2.0",
            "_view_name": "StyleView",
            "description_width": ""
          }
        },
        "f541bd764b794cb0bf11e38a2e2ec41f": {
          "model_module": "@jupyter-widgets/base",
          "model_name": "LayoutModel",
          "model_module_version": "1.2.0",
          "state": {
            "_model_module": "@jupyter-widgets/base",
            "_model_module_version": "1.2.0",
            "_model_name": "LayoutModel",
            "_view_count": null,
            "_view_module": "@jupyter-widgets/base",
            "_view_module_version": "1.2.0",
            "_view_name": "LayoutView",
            "align_content": null,
            "align_items": null,
            "align_self": null,
            "border": null,
            "bottom": null,
            "display": null,
            "flex": null,
            "flex_flow": null,
            "grid_area": null,
            "grid_auto_columns": null,
            "grid_auto_flow": null,
            "grid_auto_rows": null,
            "grid_column": null,
            "grid_gap": null,
            "grid_row": null,
            "grid_template_areas": null,
            "grid_template_columns": null,
            "grid_template_rows": null,
            "height": null,
            "justify_content": null,
            "justify_items": null,
            "left": null,
            "margin": null,
            "max_height": null,
            "max_width": null,
            "min_height": null,
            "min_width": null,
            "object_fit": null,
            "object_position": null,
            "order": null,
            "overflow": null,
            "overflow_x": null,
            "overflow_y": null,
            "padding": null,
            "right": null,
            "top": null,
            "visibility": null,
            "width": null
          }
        },
        "17bd95f5eea84843a8a34dd62dcd6f8d": {
          "model_module": "@jupyter-widgets/controls",
          "model_name": "ProgressStyleModel",
          "model_module_version": "1.5.0",
          "state": {
            "_model_module": "@jupyter-widgets/controls",
            "_model_module_version": "1.5.0",
            "_model_name": "ProgressStyleModel",
            "_view_count": null,
            "_view_module": "@jupyter-widgets/base",
            "_view_module_version": "1.2.0",
            "_view_name": "StyleView",
            "bar_color": null,
            "description_width": ""
          }
        },
        "d70071bdb4a44245a61ef1c1f87513c3": {
          "model_module": "@jupyter-widgets/base",
          "model_name": "LayoutModel",
          "model_module_version": "1.2.0",
          "state": {
            "_model_module": "@jupyter-widgets/base",
            "_model_module_version": "1.2.0",
            "_model_name": "LayoutModel",
            "_view_count": null,
            "_view_module": "@jupyter-widgets/base",
            "_view_module_version": "1.2.0",
            "_view_name": "LayoutView",
            "align_content": null,
            "align_items": null,
            "align_self": null,
            "border": null,
            "bottom": null,
            "display": null,
            "flex": null,
            "flex_flow": null,
            "grid_area": null,
            "grid_auto_columns": null,
            "grid_auto_flow": null,
            "grid_auto_rows": null,
            "grid_column": null,
            "grid_gap": null,
            "grid_row": null,
            "grid_template_areas": null,
            "grid_template_columns": null,
            "grid_template_rows": null,
            "height": null,
            "justify_content": null,
            "justify_items": null,
            "left": null,
            "margin": null,
            "max_height": null,
            "max_width": null,
            "min_height": null,
            "min_width": null,
            "object_fit": null,
            "object_position": null,
            "order": null,
            "overflow": null,
            "overflow_x": null,
            "overflow_y": null,
            "padding": null,
            "right": null,
            "top": null,
            "visibility": null,
            "width": null
          }
        },
        "3d80e5af679044349a7485287e48b8be": {
          "model_module": "@jupyter-widgets/controls",
          "model_name": "DescriptionStyleModel",
          "model_module_version": "1.5.0",
          "state": {
            "_model_module": "@jupyter-widgets/controls",
            "_model_module_version": "1.5.0",
            "_model_name": "DescriptionStyleModel",
            "_view_count": null,
            "_view_module": "@jupyter-widgets/base",
            "_view_module_version": "1.2.0",
            "_view_name": "StyleView",
            "description_width": ""
          }
        }
      }
    }
  },
  "nbformat": 4,
  "nbformat_minor": 0
}